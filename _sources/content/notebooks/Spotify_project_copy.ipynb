{
 "cells": [
  {
   "cell_type": "markdown",
   "metadata": {},
   "source": [
    "# Code"
   ]
  },
  {
   "cell_type": "code",
   "execution_count": 17,
   "metadata": {},
   "outputs": [],
   "source": [
    "import requests\n",
    "import sqlite3\n",
    "import base64\n",
    "import numpy as np\n",
    "import streamlit as st\n",
    "import pandas as pd\n",
    "import time\n",
    "import pickle\n",
    "from ydata_profiling import ProfileReport\n",
    "import matplotlib.pyplot as plt\n",
    "import seaborn as sns\n",
    "import matplotlib\n",
    "from sklearn.pipeline import Pipeline\n",
    "import mlflow\n",
    "import dagshub\n",
    "import joblib\n",
    "import mlflow.sklearn\n",
    "from sklearn.model_selection import train_test_split, cross_val_score, StratifiedKFold,GridSearchCV\n",
    "from sklearn.linear_model import LogisticRegression, RidgeClassifier\n",
    "from sklearn.ensemble import RandomForestClassifier,GradientBoostingClassifier\n",
    "from xgboost import XGBClassifier\n",
    "from sklearn.preprocessing import StandardScaler,LabelEncoder, FunctionTransformer,OneHotEncoder\n",
    "from sklearn.metrics import classification_report, accuracy_score,f1_score, confusion_matrix, make_scorer,multilabel_confusion_matrix, mean_absolute_error, r2_score\n",
    "from sklearn.feature_selection import VarianceThreshold, SelectFromModel\n",
    "from sklearn.decomposition import PCA\n",
    "from sklearn.svm import SVC\n",
    "from sklearn.ensemble import StackingClassifier\n",
    "from imblearn.over_sampling import SMOTE"
   ]
  },
  {
   "cell_type": "code",
   "execution_count": 2,
   "metadata": {},
   "outputs": [],
   "source": [
    "import warnings\n",
    "warnings.filterwarnings(\"ignore\", category=FutureWarning)"
   ]
  },
  {
   "cell_type": "code",
   "execution_count": 2,
   "metadata": {},
   "outputs": [],
   "source": [
    "CLIENT_ID = '2d4d3eb91ee343dcb255dfd55e8e6fa3'\n",
    "CLIENT_SECRET = '5c2e8a504db042d9b35590298560d70e'"
   ]
  },
  {
   "cell_type": "code",
   "execution_count": 3,
   "metadata": {},
   "outputs": [],
   "source": [
    "def get_access_token(client_id, client_secret):\n",
    "    url = \"https://accounts.spotify.com/api/token\"\n",
    "    \n",
    "    # Manually encode the client_id and client_secret\n",
    "    credentials = f\"{client_id}:{client_secret}\"\n",
    "    encoded_credentials = base64.b64encode(credentials.encode('utf-8')).decode('utf-8')\n",
    "    \n",
    "    headers = {\"Authorization\": f\"Basic {encoded_credentials}\"}\n",
    "    data = {\"grant_type\": \"client_credentials\"}\n",
    "    \n",
    "    response = requests.post(url, headers=headers, data=data)\n",
    "    \n",
    "    # Check for errors\n",
    "    if response.status_code != 200:\n",
    "        print(\"Error:\", response.status_code, response.text)\n",
    "        raise Exception(\"Failed to get access token. Check your client credentials.\")\n",
    "    \n",
    "    return response.json().get(\"access_token\")"
   ]
  },
  {
   "cell_type": "code",
   "execution_count": 4,
   "metadata": {},
   "outputs": [
    {
     "name": "stdout",
     "output_type": "stream",
     "text": [
      "New Access Token: BQBxXOIgF1jkb1bKLAcyHN2PKWeMtkgMdFY-G7HffGzSopaFsCAtVuHE1Z8cpHyL9VdZngq99j-U-1YjR1dafXAgFAxfPa5OPyN3LNO-YVTkuYMEEjA\n"
     ]
    }
   ],
   "source": [
    "access_token_repeat = get_access_token(CLIENT_ID, CLIENT_SECRET)\n",
    "print(\"New Access Token:\", access_token_repeat)"
   ]
  },
  {
   "cell_type": "code",
   "execution_count": 5,
   "metadata": {},
   "outputs": [],
   "source": [
    "def get_spotify_categories(access_token):\n",
    "    url = \"https://api.spotify.com/v1/browse/categories\"\n",
    "    headers = {\n",
    "        \"Authorization\": f\"Bearer {access_token}\"\n",
    "    }\n",
    "    \n",
    "    response = requests.get(url, headers=headers)\n",
    "    \n",
    "    if response.status_code == 200:\n",
    "        # Extract categories (genres) from the response\n",
    "        categories = response.json()[\"categories\"][\"items\"]\n",
    "        genre_list = [category[\"name\"] for category in categories]\n",
    "        return genre_list\n",
    "    else:\n",
    "        print(\"Error:\", response.status_code, response.text)\n",
    "        return []\n"
   ]
  },
  {
   "cell_type": "code",
   "execution_count": 6,
   "metadata": {},
   "outputs": [
    {
     "name": "stdout",
     "output_type": "stream",
     "text": [
      "Genres/Category List: ['2024 in Music', 'Made For You', 'New Releases', 'Happy Holidays', 'Hip-Hop', 'Country', 'Pop', 'Charts', 'Latin', 'Student', 'Discover', 'Rock', 'Dance/Electronic', 'In the car', 'Mood', 'Indie', 'R&B', 'Christian & Gospel', 'Workout', 'Disney']\n"
     ]
    }
   ],
   "source": [
    "genres = get_spotify_categories(access_token_repeat)\n",
    "print(\"Genres/Category List:\", genres)"
   ]
  },
  {
   "cell_type": "markdown",
   "metadata": {},
   "source": [
    "# To fetch inital 1k songs #"
   ]
  },
  {
   "cell_type": "code",
   "execution_count": 9,
   "metadata": {},
   "outputs": [],
   "source": [
    "import time\n",
    "import requests\n",
    "import json\n",
    "\n",
    "def fetch_songs(access_token, genres, limit, total_songs, output_file):\n",
    "    all_songs = []\n",
    "    genre_offsets = {genre: 0 for genre in genres}  \n",
    "    fetched_song_ids = set() \n",
    "\n",
    "    while len(all_songs) < total_songs:\n",
    "        for genre in genres:\n",
    "            songs_needed = total_songs - len(all_songs)\n",
    "            fetch_limit = min(limit, songs_needed)\n",
    "\n",
    "            offset = genre_offsets[genre]\n",
    "            url = f\"https://api.spotify.com/v1/search?q={genre}&type=track&limit={fetch_limit}&offset={offset}\"\n",
    "            headers = {\"Authorization\": f\"Bearer {access_token}\"}\n",
    "\n",
    "            response = requests.get(url, headers=headers)\n",
    "\n",
    "            if response.status_code == 200:\n",
    "                data = response.json()\n",
    "                tracks = data.get(\"tracks\", {}).get(\"items\", [])\n",
    "\n",
    "                for track in tracks:\n",
    "                    song_id = track[\"id\"]\n",
    "\n",
    "                    if song_id not in fetched_song_ids:\n",
    "                        artist_id = track[\"artists\"][0][\"id\"]\n",
    "                        album_id = track[\"album\"][\"id\"]\n",
    "                        song = {\n",
    "                            \"song_id\": song_id,\n",
    "                            \"title\": track[\"name\"],\n",
    "                            \"artist\": track[\"artists\"][0][\"name\"],\n",
    "                            \"artist_id\": artist_id,\n",
    "                            \"album\": track[\"album\"][\"name\"],\n",
    "                            \"album_id\": album_id,\n",
    "                            \"release_date\": track[\"album\"][\"release_date\"],\n",
    "                            \"duration_ms\": track[\"duration_ms\"],\n",
    "                            \"genre\": genre\n",
    "                        }\n",
    "                        all_songs.append(song)\n",
    "                        fetched_song_ids.add(song_id)  \n",
    "\n",
    "                genre_offsets[genre] += fetch_limit\n",
    "\n",
    "                if len(tracks) < fetch_limit:\n",
    "                    print(f\"No more songs available for genre: {genre}\")\n",
    "                    genres.remove(genre)\n",
    "                    break\n",
    "\n",
    "            elif response.status_code == 429:  \n",
    "                retry_after = int(response.headers.get(\"Retry-After\", 1))\n",
    "                print(f\"Rate limit exceeded. Retrying after {retry_after} seconds...\")\n",
    "                time.sleep(retry_after)\n",
    "\n",
    "            else:\n",
    "                print(f\"Error fetching songs for genre: {genre}, Status Code: {response.status_code}\")\n",
    "                break\n",
    "\n",
    "        if not genres:\n",
    "            print(\"All genres exhausted. Ending process.\")\n",
    "            break\n",
    "\n",
    "        time.sleep(1)\n",
    "\n",
    "    with open(output_file, \"w\") as json_file:\n",
    "        json.dump(all_songs, json_file, indent=4)\n",
    "    print(f\"Data saved to {output_file}\")\n",
    "\n",
    "    return all_songs\n"
   ]
  },
  {
   "cell_type": "code",
   "execution_count": null,
   "metadata": {},
   "outputs": [],
   "source": [
    "access_token = get_access_token(CLIENT_ID, CLIENT_SECRET)\n",
    "genres = [\"pop\", \"rock\", \"jazz\", \"Electronic\", \"Indie\"]\n",
    "limit = 50  \n",
    "total_songs = 1000\n",
    "output_file = \"songs_1.json\"\n",
    "\n",
    "fetch_songs(access_token, genres, limit, total_songs, output_file)"
   ]
  },
  {
   "cell_type": "markdown",
   "metadata": {},
   "source": [
    "### Sample Output of Data Being Fetched\n",
    "\n",
    "```json\n",
    "[\n",
    "  {\n",
    "    \"song_id\": \"57Pk2GU0ABFYBbbcgYxqki\",\n",
    "    \"title\": \"Popular - From \\\"Wicked\\\" Original Broadway Cast Recording/2003\",\n",
    "    \"artist\": \"Stephen Schwartz\",\n",
    "    \"artist_id\": \"7daPb40K64rRtF36wd3ZOk\",\n",
    "    \"album\": \"Wicked (Original Broadway Cast Recording / Deluxe Edition)\",\n",
    "    \"album_id\": \"1woCvthHJakakroP6dXNxs\",\n",
    "    \"release_date\": \"2013-01-01\",\n",
    "    \"duration_ms\": 224386,\n",
    "    \"genre\": \"pop\"\n",
    "  },\n",
    "  {\n",
    "    \"song_id\": \"6WzRpISELf3YglGAh7TXcG\",\n",
    "    \"title\": \"Popular (with Playboi Carti & Madonna) - From The Idol Vol. 1 (Music from the HBO Original Series)\",\n",
    "    \"artist\": \"The Weeknd\",\n",
    "    \"artist_id\": \"1Xyo4u8uXC1ZmMpatF05PJ\",\n",
    "    \"album\": \"Popular (Music from the HBO Original Series)\",\n",
    "    \"album_id\": \"5O0zUvdnJr0RbWzLFneN2i\",\n",
    "    \"release_date\": \"2023-06-02\",\n",
    "    \"duration_ms\": 215466,\n",
    "    \"genre\": \"pop\"\n",
    "  }\n",
    "]\n"
   ]
  },
  {
   "cell_type": "markdown",
   "metadata": {},
   "source": [
    "# to fetch remaining 9k songs"
   ]
  },
  {
   "cell_type": "code",
   "execution_count": 11,
   "metadata": {},
   "outputs": [],
   "source": [
    "def fetch_new_songs(access_token, genres, limit, total_songs, previous_songs_file, output_file):\n",
    "    # Load previously fetched songs\n",
    "    with open(previous_songs_file, \"r\") as json_file:\n",
    "        previous_songs = json.load(json_file)\n",
    "    previous_song_ids = {song[\"song_id\"] for song in previous_songs}\n",
    "\n",
    "    new_songs = []\n",
    "    genre_offsets = {genre: 0 for genre in genres}  \n",
    "    fetched_song_ids = set(previous_song_ids)  \n",
    "\n",
    "    while len(new_songs) < total_songs:\n",
    "        for genre in genres:\n",
    "            songs_needed = total_songs - len(new_songs)\n",
    "            fetch_limit = min(limit, songs_needed)\n",
    "\n",
    "            offset = genre_offsets[genre]\n",
    "            url = f\"https://api.spotify.com/v1/search?q={genre}&type=track&limit={fetch_limit}&offset={offset}\"\n",
    "            headers = {\"Authorization\": f\"Bearer {access_token}\"}\n",
    "\n",
    "            response = requests.get(url, headers=headers)\n",
    "\n",
    "            if response.status_code == 200:\n",
    "                data = response.json()\n",
    "                tracks = data.get(\"tracks\", {}).get(\"items\", [])\n",
    "\n",
    "                for track in tracks:\n",
    "                    song_id = track[\"id\"]\n",
    "\n",
    "                    if song_id not in fetched_song_ids:\n",
    "                        artist_id = track[\"artists\"][0][\"id\"]\n",
    "                        album_id = track[\"album\"][\"id\"]\n",
    "                        song = {\n",
    "                            \"song_id\": song_id,\n",
    "                            \"title\": track[\"name\"],\n",
    "                            \"artist\": track[\"artists\"][0][\"name\"],\n",
    "                            \"artist_id\": artist_id,\n",
    "                            \"album\": track[\"album\"][\"name\"],\n",
    "                            \"album_id\": album_id,\n",
    "                            \"release_date\": track[\"album\"][\"release_date\"],\n",
    "                            \"duration_ms\": track[\"duration_ms\"],\n",
    "                            \"genre\": genre\n",
    "                        }\n",
    "                        new_songs.append(song)\n",
    "                        fetched_song_ids.add(song_id) \n",
    "\n",
    "                genre_offsets[genre] += fetch_limit\n",
    "\n",
    "                if len(tracks) < fetch_limit:\n",
    "                    print(f\"No more songs available for genre: {genre}\")\n",
    "                    genres.remove(genre)\n",
    "                    break\n",
    "\n",
    "            elif response.status_code == 429:\n",
    "                retry_after = int(response.headers.get(\"Retry-After\", 1))\n",
    "                print(f\"Rate limit exceeded. Retrying after {retry_after} seconds...\")\n",
    "                time.sleep(retry_after)\n",
    "\n",
    "            else:\n",
    "                print(f\"Error fetching songs for genre: {genre}, Status Code: {response.status_code}\")\n",
    "                break\n",
    "\n",
    "        if not genres:\n",
    "            print(\"All genres exhausted. Ending process.\")\n",
    "            break\n",
    "\n",
    "        time.sleep(1)\n",
    "\n",
    "    with open(output_file, \"w\") as json_file:\n",
    "        json.dump(new_songs, json_file, indent=4)\n",
    "    print(f\"New unique songs saved to {output_file}\")\n",
    "\n",
    "    return new_songs"
   ]
  },
  {
   "cell_type": "code",
   "execution_count": null,
   "metadata": {},
   "outputs": [],
   "source": [
    "access_token = get_access_token(CLIENT_ID, CLIENT_SECRET)\n",
    "genres = [\"hard-rock\", \"death-metal\", \"disco\", \"anime\", \"holidays\"]\n",
    "limit = 50  \n",
    "total_songs = 1000\n",
    "previous_songs_file = \"songs_merged_final.json\"\n",
    "output_file = \"songs_6.json\"\n",
    "\n",
    "fetch_new_songs(access_token, genres, limit, total_songs, previous_songs_file, output_file)"
   ]
  },
  {
   "cell_type": "markdown",
   "metadata": {},
   "source": [
    "### Sample Output of Data Being Fetched\n",
    "\n",
    "```json\n",
    "[\n",
    "  {\n",
    "    \"song_id\": \"0QrjkDvH06SKE8LXq3VTA3\",\n",
    "    \"title\": \"Hard Rock Bottom of Your Heart\",\n",
    "    \"artist\": \"Randy Travis\",\n",
    "    \"artist_id\": \"1pTuR132U5b4Rizal2Pr7m\",\n",
    "    \"album\": \"On the Other Hand - All the Number Ones\",\n",
    "    \"album_id\": \"0UCCMRZib7d6eCdEWQiPJ3\",\n",
    "    \"release_date\": \"2015-04-21\",\n",
    "    \"duration_ms\": 237013,\n",
    "    \"genre\": \"hard-rock\"\n",
    "  },\n",
    "  {\n",
    "    \"song_id\": \"5jhI9kdseTMJQYvjIm5MVU\",\n",
    "    \"title\": \"bleh\",\n",
    "    \"artist\": \"Hardrock\",\n",
    "    \"artist_id\": \"1EM110Ljwqga6grZH2Dym3\",\n",
    "    \"album\": \"1of1\",\n",
    "    \"album_id\": \"1uDRSDtUULUbusMjtRrwKi\",\n",
    "    \"release_date\": \"2023-08-18\",\n",
    "    \"duration_ms\": 146750,\n",
    "    \"genre\": \"hard-rock\"\n",
    "  }\n",
    "]\n",
    "\n"
   ]
  },
  {
   "cell_type": "markdown",
   "metadata": {},
   "source": [
    "# Merge songs"
   ]
  },
  {
   "cell_type": "code",
   "execution_count": 12,
   "metadata": {},
   "outputs": [],
   "source": [
    "def merge_song_files(file1, file2, merged_file):\n",
    "    with open(file1, \"r\") as f1, open(file2, \"r\") as f2:\n",
    "        songs1 = json.load(f1)\n",
    "        songs2 = json.load(f2)\n",
    "\n",
    "    song_ids = {song[\"song_id\"] for song in songs1}  \n",
    "    merged_songs = songs1.copy()\n",
    "\n",
    "    for song in songs2:\n",
    "        if song[\"song_id\"] not in song_ids:\n",
    "            merged_songs.append(song)\n",
    "            song_ids.add(song[\"song_id\"])\n",
    "    \n",
    "    # Save the merged songs to the new merged file\n",
    "    with open(merged_file, \"w\") as output_file:\n",
    "        json.dump(merged_songs, output_file, indent=4)\n",
    "    print(f\"Merged songs saved to {merged_file}\")\n",
    "    \n",
    "    return merged_songs"
   ]
  },
  {
   "cell_type": "code",
   "execution_count": null,
   "metadata": {},
   "outputs": [],
   "source": [
    "merge_song_files(\"songs_1.json\", \"songs_2.json\", \"songs_merged.json\")"
   ]
  },
  {
   "cell_type": "code",
   "execution_count": null,
   "metadata": {},
   "outputs": [],
   "source": [
    "access_token = get_access_token(CLIENT_ID, CLIENT_SECRET)\n",
    "genres = [\"hard-rock\", \"death-metal\", \"disco\", \"anime\", \"holidays\"]\n",
    "limit = 50  \n",
    "total_songs = 1000\n",
    "previous_songs_file = \"songs_6.json\"\n",
    "output_file = \"songs_7.json\"\n",
    "\n",
    "fetch_new_songs(access_token, genres, limit, total_songs, previous_songs_file, output_file)"
   ]
  },
  {
   "cell_type": "code",
   "execution_count": null,
   "metadata": {},
   "outputs": [],
   "source": [
    "merge_song_files(\"songs_6.json\", \"songs_7.json\", \"songs_merged_3.json\")"
   ]
  },
  {
   "cell_type": "code",
   "execution_count": null,
   "metadata": {},
   "outputs": [],
   "source": [
    "access_token = get_access_token(CLIENT_ID, CLIENT_SECRET)\n",
    "genres = [\"hard-rock\", \"death-metal\", \"disco\", \"anime\", \"holidays\"]\n",
    "limit = 50  \n",
    "total_songs = 1000\n",
    "previous_songs_file = \"songs_merged_3.json\"\n",
    "output_file = \"songs_8.json\"\n",
    "\n",
    "fetch_new_songs(access_token, genres, limit, total_songs, previous_songs_file, output_file)"
   ]
  },
  {
   "cell_type": "code",
   "execution_count": null,
   "metadata": {},
   "outputs": [],
   "source": [
    "merge_song_files(\"songs_merged_3.json\", \"songs_8.json\", \"songs_merged_4.json\")"
   ]
  },
  {
   "cell_type": "code",
   "execution_count": null,
   "metadata": {},
   "outputs": [],
   "source": [
    "access_token = get_access_token(CLIENT_ID, CLIENT_SECRET)\n",
    "genres = [\"hard-rock\", \"death-metal\", \"disco\", \"anime\", \"holidays\"]\n",
    "limit = 50  \n",
    "total_songs = 1000\n",
    "previous_songs_file = \"songs_merged_4.json\"\n",
    "output_file = \"songs_9.json\"\n",
    "\n",
    "fetch_new_songs(access_token, genres, limit, total_songs, previous_songs_file, output_file)"
   ]
  },
  {
   "cell_type": "code",
   "execution_count": null,
   "metadata": {},
   "outputs": [],
   "source": [
    "merge_song_files(\"songs_merged_4.json\", \"songs_9.json\", \"songs_merged_5.json\")"
   ]
  },
  {
   "cell_type": "code",
   "execution_count": null,
   "metadata": {},
   "outputs": [],
   "source": [
    "access_token = get_access_token(CLIENT_ID, CLIENT_SECRET)\n",
    "genres = [\"hard-rock\", \"death-metal\", \"disco\", \"anime\", \"holidays\"]\n",
    "limit = 50  \n",
    "total_songs = 1000\n",
    "previous_songs_file = \"songs_merged_5.json\"\n",
    "output_file = \"songs_10.json\"\n",
    "\n",
    "fetch_new_songs(access_token, genres, limit, total_songs, previous_songs_file, output_file)"
   ]
  },
  {
   "cell_type": "code",
   "execution_count": null,
   "metadata": {},
   "outputs": [],
   "source": [
    "merge_song_files(\"songs_merged_5.json\", \"songs_10.json\", \"songs_merged_6.json\")"
   ]
  },
  {
   "cell_type": "code",
   "execution_count": null,
   "metadata": {},
   "outputs": [],
   "source": [
    "merge_song_files(\"songs_merged_final.json\", \"songs_merged_6.json\", \"songs_merged_final_new.json\")"
   ]
  },
  {
   "cell_type": "code",
   "execution_count": 16,
   "metadata": {},
   "outputs": [],
   "source": [
    "def merge_multiple_song_files(files, merged_file):\n",
    "    merged_songs = []\n",
    "    song_ids = set()  \n",
    "\n",
    "    for file in files:\n",
    "        with open(file, \"r\") as f:\n",
    "            songs = json.load(f)\n",
    "\n",
    "        for song in songs:\n",
    "            if song[\"song_id\"] not in song_ids:\n",
    "                merged_songs.append(song)\n",
    "                song_ids.add(song[\"song_id\"])\n",
    "    \n",
    "    # Save the merged songs to the new merged file\n",
    "    with open(merged_file, \"w\") as output_file:\n",
    "        json.dump(merged_songs, output_file, indent=4)\n",
    "    \n",
    "    print(f\"Merged songs saved to {merged_file}\")\n",
    "    \n",
    "    return merged_songs"
   ]
  },
  {
   "cell_type": "code",
   "execution_count": 17,
   "metadata": {},
   "outputs": [
    {
     "name": "stdout",
     "output_type": "stream",
     "text": [
      "Merged songs saved to merged_songs_new_genres.json\n"
     ]
    }
   ],
   "source": [
    "files_to_merge = [\"songs_6.json\", \"songs_7.json\", \"songs_8.json\", \"songs_9.json\", \"songs_10.json\"]\n",
    "merged_file = \"merged_songs_new_genres.json\"\n",
    "\n",
    "merged_songs = merge_multiple_song_files(files_to_merge, merged_file)"
   ]
  },
  {
   "cell_type": "code",
   "execution_count": 8,
   "metadata": {},
   "outputs": [],
   "source": [
    "def fetch_artist_details_batch(access_token, artist_ids):\n",
    "    url = \"https://api.spotify.com/v1/artists\"\n",
    "    headers = {\"Authorization\": f\"Bearer {access_token}\"}\n",
    "    artists = []\n",
    "\n",
    "    for artist_id in artist_ids:\n",
    "        while True:\n",
    "            response = requests.get(f\"{url}/{artist_id}\", headers=headers)\n",
    "            if response.status_code == 200:\n",
    "                artist_data = response.json()\n",
    "                artist = {\n",
    "                    \"artist_id\": artist_data[\"id\"],\n",
    "                    \"name\": artist_data[\"name\"],\n",
    "                    \"popularity\": artist_data[\"popularity\"],\n",
    "                    \"genres\": artist_data[\"genres\"]\n",
    "                }\n",
    "                artists.append(artist)\n",
    "                break\n",
    "            elif response.status_code == 429: \n",
    "                retry_after = int(response.headers.get(\"Retry-After\", 1))\n",
    "                print(f\"Rate limited. Retrying after {retry_after} seconds.\")\n",
    "                time.sleep(retry_after)\n",
    "            else:\n",
    "                print(f\"Error fetching artist: {artist_id}, Status Code: {response.status_code}\")\n",
    "                break\n",
    "\n",
    "    return artists\n",
    "\n",
    "\n",
    "def save_artist_data_to_json(artists, filename=\"artist_data.json\"):\n",
    "    with open(filename, \"w\") as json_file:\n",
    "        json.dump(artists, json_file, indent=4)\n",
    "    print(f\"Artist data saved to {filename}\")\n"
   ]
  },
  {
   "cell_type": "code",
   "execution_count": 9,
   "metadata": {},
   "outputs": [],
   "source": [
    "def fetch_album_details_batch(access_token, album_ids):\n",
    "    url = f\"https://api.spotify.com/v1/albums\"\n",
    "    headers = {\"Authorization\": f\"Bearer {access_token}\"}\n",
    "    albums = []\n",
    "\n",
    "    for album_id in album_ids:\n",
    "        while True:\n",
    "            response = requests.get(f\"{url}/{album_id}\", headers=headers)\n",
    "            if response.status_code == 200:\n",
    "                album_data = response.json()\n",
    "                album = {\n",
    "                    \"album_id\": album_data[\"id\"],\n",
    "                    \"name\": album_data[\"name\"],\n",
    "                    \"release_date\": album_data[\"release_date\"],\n",
    "                    \"total_tracks\": album_data[\"total_tracks\"],\n",
    "                    \"artist_id\": album_data[\"artists\"][0][\"id\"]\n",
    "                }\n",
    "                albums.append(album)\n",
    "                break  \n",
    "            elif response.status_code == 429:  \n",
    "                retry_after = int(response.headers.get(\"Retry-After\", 1))\n",
    "                print(f\"Rate limited. Retrying after {retry_after} seconds.\")\n",
    "                time.sleep(retry_after)\n",
    "            else:\n",
    "                print(f\"Error fetching album: {album_id}, Status Code: {response.status_code}\")\n",
    "                break  \n",
    "\n",
    "    return albums\n",
    "\n",
    "def save_album_data_to_json(albums, filename):\n",
    "    with open(filename, \"w\") as json_file:\n",
    "        json.dump(albums, json_file, indent=4)\n",
    "    print(f\"Album data saved to {filename}\")"
   ]
  },
  {
   "cell_type": "code",
   "execution_count": 10,
   "metadata": {},
   "outputs": [],
   "source": [
    "def fetch_audio_features_batch(access_token, song_ids):\n",
    "    \"\"\"\n",
    "    Fetch audio features for songs in batches of 100 to avoid exceeding Spotify's limit.\n",
    "    \"\"\"\n",
    "    url = f\"https://api.spotify.com/v1/audio-features\"\n",
    "    headers = {\"Authorization\": f\"Bearer {access_token}\"}\n",
    "    audio_features = []\n",
    "\n",
    "    # Batch the song IDs into chunks of 100\n",
    "    batch_size = 100\n",
    "    for i in range(0, len(song_ids), batch_size):\n",
    "        batch_ids = song_ids[i:i + batch_size]\n",
    "        params = {\"ids\": \",\".join(batch_ids)}\n",
    "\n",
    "        response = requests.get(url, headers=headers, params=params)\n",
    "        if response.status_code == 200:\n",
    "            features_data = response.json().get(\"audio_features\", [])\n",
    "            for features in features_data:\n",
    "                if features:  # Skip if features are `null`\n",
    "                    audio_features.append({\n",
    "                        \"song_id\": features[\"id\"],\n",
    "                        \"danceability\": features[\"danceability\"],\n",
    "                        \"energy\": features[\"energy\"],\n",
    "                        \"key\": features[\"key\"],\n",
    "                        \"loudness\": features[\"loudness\"],\n",
    "                        \"tempo\": features[\"tempo\"],\n",
    "                        \"time_signature\": features[\"time_signature\"],\n",
    "                        \"instrumentalness\": features[\"instrumentalness\"],\n",
    "                        \"liveness\": features[\"liveness\"],\n",
    "                        \"valence\": features[\"valence\"],\n",
    "                    })\n",
    "        else:\n",
    "            print(f\"Error fetching audio features for batch {i // batch_size + 1}: Status Code {response.status_code}\")\n",
    "    \n",
    "    return audio_features\n",
    "\n",
    "def save_audio_features_to_json(audio_features, filename):\n",
    "    \"\"\"\n",
    "    Save the audio features to a JSON file.\n",
    "    \"\"\"\n",
    "    with open(filename, \"w\") as json_file:\n",
    "        json.dump(audio_features, json_file, indent=4)\n",
    "    print(f\"Audio features data saved to {filename}\")"
   ]
  },
  {
   "cell_type": "code",
   "execution_count": 18,
   "metadata": {},
   "outputs": [
    {
     "name": "stdout",
     "output_type": "stream",
     "text": [
      "Artist data saved to artist_data_new_genre.json\n"
     ]
    }
   ],
   "source": [
    "access_token = get_access_token(CLIENT_ID, CLIENT_SECRET)\n",
    "\n",
    "with open(\"merged_songs_new_genres.json\", \"r\") as file:\n",
    "    songs_data = json.load(file)\n",
    "\n",
    "artist_ids = list({song[\"artist_id\"] for song in songs_data})\n",
    "\n",
    "artists = fetch_artist_details_batch(access_token, artist_ids)\n",
    "\n",
    "save_artist_data_to_json(artists, \"artist_data_new_genre.json\")"
   ]
  },
  {
   "cell_type": "code",
   "execution_count": 11,
   "metadata": {},
   "outputs": [
    {
     "name": "stdout",
     "output_type": "stream",
     "text": [
      "Album data saved to album_data_new_genre.json\n"
     ]
    }
   ],
   "source": [
    "access_token = get_access_token(CLIENT_ID, CLIENT_SECRET)\n",
    "\n",
    "with open(\"merged_songs_new_genres.json\", \"r\") as file:\n",
    "    songs_data = json.load(file)\n",
    "album_ids = list({song[\"album_id\"] for song in songs_data})\n",
    "\n",
    "albums = fetch_album_details_batch(access_token, album_ids)\n",
    "save_album_data_to_json(albums,'album_data_new_genre.json')"
   ]
  },
  {
   "cell_type": "code",
   "execution_count": 14,
   "metadata": {},
   "outputs": [
    {
     "name": "stdout",
     "output_type": "stream",
     "text": [
      "Audio features data saved to audio_features_data_new_audio.json\n"
     ]
    }
   ],
   "source": [
    "access_token = get_access_token(CLIENT_ID, CLIENT_SECRET)\n",
    "\n",
    "with open(\"songs_merged_final.json\", \"r\") as file:\n",
    "    songs_data = json.load(file)\n",
    "\n",
    "song_ids = list({song[\"song_id\"] for song in songs_data}) \n",
    "\n",
    "audio_features = fetch_audio_features_batch(access_token, song_ids)\n",
    "save_audio_features_to_json(audio_features,'audio_features_data_new_audio.json')"
   ]
  },
  {
   "cell_type": "code",
   "execution_count": 16,
   "metadata": {},
   "outputs": [
    {
     "name": "stdout",
     "output_type": "stream",
     "text": [
      "Songs merged successfully without duplicates!\n"
     ]
    }
   ],
   "source": [
    "with open('artist_data.json', 'r') as file1, open('artist_data_new_genre.json', 'r') as file2:\n",
    "    songs1 = json.load(file1)\n",
    "    songs2 = json.load(file2)\n",
    "\n",
    "# Use a set to track unique song IDs\n",
    "artist_ids = {artist[\"artist_id\"] for artist in songs1}\n",
    "\n",
    "# Merge songs without duplicates\n",
    "merged_songs = songs1.copy()\n",
    "for song in songs2:\n",
    "    if song[\"artist_id\"] not in artist_ids:\n",
    "        merged_songs.append(song)\n",
    "        artist_ids.add(song[\"artist_id\"])\n",
    "\n",
    "# Save the merged JSON to a new file\n",
    "with open('artist_data_merged_new.json', 'w') as output_file:\n",
    "    json.dump(merged_songs, output_file, indent=4)\n",
    "\n",
    "print(\"Songs merged successfully without duplicates!\")"
   ]
  },
  {
   "cell_type": "code",
   "execution_count": 17,
   "metadata": {},
   "outputs": [
    {
     "name": "stdout",
     "output_type": "stream",
     "text": [
      "Songs merged successfully without duplicates!\n"
     ]
    }
   ],
   "source": [
    "with open('album_data.json', 'r') as file1, open('album_data_new_genre.json', 'r') as file2:\n",
    "    songs1 = json.load(file1)\n",
    "    songs2 = json.load(file2)\n",
    "\n",
    "# Use a set to track unique song IDs\n",
    "album_ids = {album[\"album_id\"] for album in songs1}\n",
    "\n",
    "# Merge songs without duplicates\n",
    "merged_songs = songs1.copy()\n",
    "for song in songs2:\n",
    "    if song[\"album_id\"] not in album_ids:\n",
    "        merged_songs.append(song)\n",
    "        album_ids.add(song[\"album_id\"])\n",
    "\n",
    "# Save the merged JSON to a new file\n",
    "with open('album_data_merged_new.json', 'w') as output_file:\n",
    "    json.dump(merged_songs, output_file, indent=4)\n",
    "\n",
    "print(\"Songs merged successfully without duplicates!\")"
   ]
  },
  {
   "cell_type": "code",
   "execution_count": 18,
   "metadata": {},
   "outputs": [
    {
     "name": "stdout",
     "output_type": "stream",
     "text": [
      "Songs merged successfully without duplicates!\n"
     ]
    }
   ],
   "source": [
    "with open('audio_features_data_new_audio.json', 'r') as file1, open('audio_features_data_new_genre.json', 'r') as file2:\n",
    "    songs1 = json.load(file1)\n",
    "    songs2 = json.load(file2)\n",
    "\n",
    "# Use a set to track unique song IDs\n",
    "song_ids = {song[\"song_id\"] for song in songs1}\n",
    "\n",
    "# Merge songs without duplicates\n",
    "merged_songs = songs1.copy()\n",
    "for song in songs2:\n",
    "    if song[\"song_id\"] not in song_ids:\n",
    "        merged_songs.append(song)\n",
    "        song_ids.add(song[\"song_id\"])\n",
    "\n",
    "# Save the merged JSON to a new file\n",
    "with open('audio_features_data_merged_new.json', 'w') as output_file:\n",
    "    json.dump(merged_songs, output_file, indent=4)\n",
    "\n",
    "print(\"Songs merged successfully without duplicates!\")"
   ]
  },
  {
   "cell_type": "markdown",
   "metadata": {},
   "source": [
    "# SQLITE3 Connection"
   ]
  },
  {
   "cell_type": "code",
   "execution_count": 12,
   "metadata": {},
   "outputs": [],
   "source": [
    "conn = sqlite3.connect(\"spotify_data.db\")\n",
    "cursor = conn.cursor()"
   ]
  },
  {
   "cell_type": "code",
   "execution_count": 8,
   "metadata": {},
   "outputs": [],
   "source": [
    "# conn.close()"
   ]
  },
  {
   "cell_type": "markdown",
   "metadata": {},
   "source": [
    "### Table schema"
   ]
  },
  {
   "cell_type": "code",
   "execution_count": 13,
   "metadata": {},
   "outputs": [
    {
     "data": {
      "text/plain": [
       "<sqlite3.Cursor at 0x1cd592f3cc0>"
      ]
     },
     "execution_count": 13,
     "metadata": {},
     "output_type": "execute_result"
    }
   ],
   "source": [
    "cursor.executescript(\"\"\"\n",
    "CREATE TABLE IF NOT EXISTS artists (\n",
    "    artist_id TEXT PRIMARY KEY,\n",
    "    name TEXT NOT NULL,\n",
    "    popularity INTEGER,\n",
    "    genres TEXT\n",
    ");\n",
    "\n",
    "CREATE TABLE IF NOT EXISTS albums (\n",
    "    album_id TEXT PRIMARY KEY,\n",
    "    name TEXT NOT NULL,\n",
    "    release_date TEXT,\n",
    "    total_tracks INTEGER,\n",
    "    artist_id TEXT NOT NULL,\n",
    "    FOREIGN KEY (artist_id) REFERENCES artists(artist_id)\n",
    ");\n",
    "\n",
    "CREATE TABLE songs (\n",
    "    song_id TEXT PRIMARY KEY,\n",
    "    title TEXT NOT NULL,\n",
    "    artist_id TEXT NOT NULL,\n",
    "    album_id TEXT NOT NULL,\n",
    "    release_date TEXT,\n",
    "    duration_ms INTEGER,\n",
    "    genre TEXT,\n",
    "    FOREIGN KEY (artist_id) REFERENCES artists (artist_id),\n",
    "    FOREIGN KEY (album_id) REFERENCES albums (album_id)\n",
    ");\n",
    "\n",
    "\n",
    "CREATE TABLE IF NOT EXISTS audio_features (\n",
    "    song_id TEXT PRIMARY KEY,\n",
    "    danceability REAL,\n",
    "    energy REAL,\n",
    "    key INTEGER,\n",
    "    loudness REAL,\n",
    "    tempo REAL,\n",
    "    time_signature INTEGER,\n",
    "    instrumentalness REAL,\n",
    "    liveness REAL,\n",
    "    valence REAL,\n",
    "    FOREIGN KEY (song_id) REFERENCES songs(song_id)\n",
    ");\n",
    "\"\"\")"
   ]
  },
  {
   "cell_type": "code",
   "execution_count": 10,
   "metadata": {},
   "outputs": [
    {
     "name": "stdout",
     "output_type": "stream",
     "text": [
      "Table 'artists' dropped successfully.\n",
      "Table 'albums' dropped successfully.\n",
      "Table 'songs' dropped successfully.\n",
      "Table 'audio_features' dropped successfully.\n"
     ]
    }
   ],
   "source": [
    "# tables_to_drop = [\"artists\", \"albums\", \"songs\", \"audio_features\"]\n",
    "\n",
    "# # Loop through each table and drop it\n",
    "# for table in tables_to_drop:\n",
    "#     try:\n",
    "#         cursor.execute(f\"DROP TABLE IF EXISTS {table}\")\n",
    "#         print(f\"Table '{table}' dropped successfully.\")\n",
    "#     except sqlite3.Error as e:\n",
    "#         print(f\"Error dropping table '{table}': {e}\")\n",
    "\n",
    "# # Commit changes and close connection\n",
    "# conn.commit()\n",
    "# conn.close()"
   ]
  },
  {
   "cell_type": "markdown",
   "metadata": {},
   "source": [
    "### 3NF"
   ]
  },
  {
   "cell_type": "code",
   "execution_count": 14,
   "metadata": {},
   "outputs": [],
   "source": [
    "with open(\"songs_merged_final_new.json\") as f:\n",
    "    songs_data = json.load(f)\n",
    "\n",
    "with open(\"artist_data_merged_new.json\") as f:\n",
    "    artists_data = json.load(f)\n",
    "\n",
    "with open(\"album_data_merged_new.json\") as f:\n",
    "    albums_data = json.load(f)\n",
    "\n",
    "with open(\"audio_features_data_merged_new.json\") as f:\n",
    "    audio_features_data = json.load(f)\n",
    "\n",
    "cursor.executemany(\"\"\"\n",
    "    INSERT OR IGNORE INTO artists (artist_id, name, popularity, genres)\n",
    "    VALUES (?, ?, ?, ?)\n",
    "\"\"\", [(artist[\"artist_id\"], artist[\"name\"], artist.get(\"popularity\"), \",\".join(artist[\"genres\"])) for artist in artists_data])\n",
    "\n",
    "cursor.executemany(\"\"\"\n",
    "    INSERT OR IGNORE INTO albums (album_id, name, release_date,total_tracks, artist_id)\n",
    "    VALUES (?, ?, ?, ?, ?)\n",
    "\"\"\", [(album[\"album_id\"], album[\"name\"], album[\"release_date\"], album[\"total_tracks\"],album[\"artist_id\"]) for album in albums_data])\n",
    "\n",
    "cursor.executemany(\"\"\"\n",
    "    INSERT OR IGNORE INTO songs (song_id, title, artist_id, album_id, release_date, duration_ms, genre)\n",
    "    VALUES (?, ?, ?, ?, ?, ?, ?)\n",
    "\"\"\", [\n",
    "    (\n",
    "        song[\"song_id\"],\n",
    "        song[\"title\"],\n",
    "        song[\"artist_id\"],\n",
    "        song[\"album_id\"],\n",
    "        song[\"release_date\"],\n",
    "        song[\"duration_ms\"],\n",
    "        song[\"genre\"]\n",
    "    ) for song in songs_data\n",
    "])\n",
    "\n",
    "\n",
    "cursor.executemany(\"\"\"\n",
    "    INSERT OR IGNORE INTO audio_features (song_id, danceability, energy, key, loudness, tempo, time_signature, instrumentalness, liveness, valence)\n",
    "    VALUES (?, ?, ?, ?, ?, ?, ?, ?, ?, ?)\n",
    "\"\"\", [(feature[\"song_id\"], feature[\"danceability\"], feature[\"energy\"], feature[\"key\"], feature[\"loudness\"], feature[\"tempo\"], feature[\"time_signature\"], feature[\"instrumentalness\"], feature[\"liveness\"], feature[\"valence\"]) for feature in audio_features_data])\n",
    "\n",
    "conn.commit()\n",
    "conn.close()"
   ]
  },
  {
   "cell_type": "code",
   "execution_count": 7,
   "metadata": {},
   "outputs": [],
   "source": [
    "conn = sqlite3.connect(\"spotify_data.db\")\n",
    "query = \"\"\"\n",
    "SELECT \n",
    "    s.song_id,\n",
    "    s.title,\n",
    "    a.name AS artist_name,\n",
    "    al.name AS album_name,\n",
    "    s.release_date,\n",
    "    s.duration_ms,\n",
    "    s.genre,\n",
    "    af.danceability,\n",
    "    af.energy,\n",
    "    af.key,\n",
    "    af.loudness,\n",
    "    af.tempo,\n",
    "    af.time_signature,\n",
    "    af.instrumentalness,\n",
    "    af.liveness,\n",
    "    af.valence\n",
    "FROM songs s\n",
    "JOIN artists a ON s.artist_id = a.artist_id\n",
    "JOIN albums al ON s.album_id = al.album_id\n",
    "JOIN audio_features af ON s.song_id = af.song_id\n",
    "\"\"\"\n",
    "data = pd.read_sql_query(query, conn)\n",
    "\n",
    "conn.close()"
   ]
  },
  {
   "cell_type": "code",
   "execution_count": 8,
   "metadata": {},
   "outputs": [
    {
     "data": {
      "text/html": [
       "<div>\n",
       "<style scoped>\n",
       "    .dataframe tbody tr th:only-of-type {\n",
       "        vertical-align: middle;\n",
       "    }\n",
       "\n",
       "    .dataframe tbody tr th {\n",
       "        vertical-align: top;\n",
       "    }\n",
       "\n",
       "    .dataframe thead th {\n",
       "        text-align: right;\n",
       "    }\n",
       "</style>\n",
       "<table border=\"1\" class=\"dataframe\">\n",
       "  <thead>\n",
       "    <tr style=\"text-align: right;\">\n",
       "      <th></th>\n",
       "      <th>song_id</th>\n",
       "      <th>title</th>\n",
       "      <th>artist_name</th>\n",
       "      <th>album_name</th>\n",
       "      <th>release_date</th>\n",
       "      <th>duration_ms</th>\n",
       "      <th>genre</th>\n",
       "      <th>danceability</th>\n",
       "      <th>energy</th>\n",
       "      <th>key</th>\n",
       "      <th>loudness</th>\n",
       "      <th>tempo</th>\n",
       "      <th>time_signature</th>\n",
       "      <th>instrumentalness</th>\n",
       "      <th>liveness</th>\n",
       "      <th>valence</th>\n",
       "    </tr>\n",
       "  </thead>\n",
       "  <tbody>\n",
       "    <tr>\n",
       "      <th>0</th>\n",
       "      <td>57Pk2GU0ABFYBbbcgYxqki</td>\n",
       "      <td>Popular - From \"Wicked\" Original Broadway Cast...</td>\n",
       "      <td>Stephen Schwartz</td>\n",
       "      <td>Wicked (Original Broadway Cast Recording / Del...</td>\n",
       "      <td>2013-01-01</td>\n",
       "      <td>224386</td>\n",
       "      <td>pop</td>\n",
       "      <td>0.711</td>\n",
       "      <td>0.2280</td>\n",
       "      <td>0</td>\n",
       "      <td>-12.850</td>\n",
       "      <td>88.714</td>\n",
       "      <td>4</td>\n",
       "      <td>0.000000</td>\n",
       "      <td>0.1220</td>\n",
       "      <td>0.5480</td>\n",
       "    </tr>\n",
       "    <tr>\n",
       "      <th>1</th>\n",
       "      <td>6WzRpISELf3YglGAh7TXcG</td>\n",
       "      <td>Popular (with Playboi Carti &amp; Madonna) - From ...</td>\n",
       "      <td>The Weeknd</td>\n",
       "      <td>Popular (Music from the HBO Original Series)</td>\n",
       "      <td>2023-06-02</td>\n",
       "      <td>215466</td>\n",
       "      <td>pop</td>\n",
       "      <td>0.854</td>\n",
       "      <td>0.6740</td>\n",
       "      <td>1</td>\n",
       "      <td>-6.230</td>\n",
       "      <td>99.022</td>\n",
       "      <td>4</td>\n",
       "      <td>0.000085</td>\n",
       "      <td>0.5090</td>\n",
       "      <td>0.8480</td>\n",
       "    </tr>\n",
       "    <tr>\n",
       "      <th>2</th>\n",
       "      <td>6z3HAUZpAyJ0ctsbAwAiw3</td>\n",
       "      <td>Pop Muzik</td>\n",
       "      <td>M</td>\n",
       "      <td>Pop Muzik</td>\n",
       "      <td>2022-06-03</td>\n",
       "      <td>200682</td>\n",
       "      <td>pop</td>\n",
       "      <td>0.935</td>\n",
       "      <td>0.8330</td>\n",
       "      <td>1</td>\n",
       "      <td>-7.493</td>\n",
       "      <td>108.914</td>\n",
       "      <td>4</td>\n",
       "      <td>0.000016</td>\n",
       "      <td>0.0792</td>\n",
       "      <td>0.9670</td>\n",
       "    </tr>\n",
       "    <tr>\n",
       "      <th>3</th>\n",
       "      <td>6uFn47ACjqYkc0jADwEdj1</td>\n",
       "      <td>Pop Out (feat. Lil Tjay)</td>\n",
       "      <td>Polo G</td>\n",
       "      <td>Die A Legend</td>\n",
       "      <td>2019-06-07</td>\n",
       "      <td>166560</td>\n",
       "      <td>pop</td>\n",
       "      <td>0.772</td>\n",
       "      <td>0.6390</td>\n",
       "      <td>1</td>\n",
       "      <td>-7.119</td>\n",
       "      <td>168.112</td>\n",
       "      <td>4</td>\n",
       "      <td>0.000000</td>\n",
       "      <td>0.0698</td>\n",
       "      <td>0.2610</td>\n",
       "    </tr>\n",
       "    <tr>\n",
       "      <th>4</th>\n",
       "      <td>4GssB27iJeqmfGxS94Tfij</td>\n",
       "      <td>Popular Monster</td>\n",
       "      <td>Falling In Reverse</td>\n",
       "      <td>Popular Monster</td>\n",
       "      <td>2019-11-20</td>\n",
       "      <td>220537</td>\n",
       "      <td>pop</td>\n",
       "      <td>0.461</td>\n",
       "      <td>0.8970</td>\n",
       "      <td>3</td>\n",
       "      <td>-3.982</td>\n",
       "      <td>165.107</td>\n",
       "      <td>4</td>\n",
       "      <td>0.000000</td>\n",
       "      <td>0.0965</td>\n",
       "      <td>0.3580</td>\n",
       "    </tr>\n",
       "    <tr>\n",
       "      <th>...</th>\n",
       "      <td>...</td>\n",
       "      <td>...</td>\n",
       "      <td>...</td>\n",
       "      <td>...</td>\n",
       "      <td>...</td>\n",
       "      <td>...</td>\n",
       "      <td>...</td>\n",
       "      <td>...</td>\n",
       "      <td>...</td>\n",
       "      <td>...</td>\n",
       "      <td>...</td>\n",
       "      <td>...</td>\n",
       "      <td>...</td>\n",
       "      <td>...</td>\n",
       "      <td>...</td>\n",
       "      <td>...</td>\n",
       "    </tr>\n",
       "    <tr>\n",
       "      <th>9969</th>\n",
       "      <td>4FmUrmRianI41BlO2RYhew</td>\n",
       "      <td>She Was Here, Alone (From \"Erased\")</td>\n",
       "      <td>LucasPianoRoom</td>\n",
       "      <td>Anime Piano, Vol. 2</td>\n",
       "      <td>2020-04-02</td>\n",
       "      <td>140945</td>\n",
       "      <td>anime</td>\n",
       "      <td>0.442</td>\n",
       "      <td>0.0593</td>\n",
       "      <td>4</td>\n",
       "      <td>-19.093</td>\n",
       "      <td>62.987</td>\n",
       "      <td>3</td>\n",
       "      <td>0.951000</td>\n",
       "      <td>0.1550</td>\n",
       "      <td>0.1080</td>\n",
       "    </tr>\n",
       "    <tr>\n",
       "      <th>9970</th>\n",
       "      <td>45YTUUPFSm6GS6LsddwRmj</td>\n",
       "      <td>Beautiful World (From \"Darling in the FranXX\")</td>\n",
       "      <td>Fonzi M</td>\n",
       "      <td>Anime Piano Music Collection in Spring, Vol. 2</td>\n",
       "      <td>2018-04-20</td>\n",
       "      <td>92282</td>\n",
       "      <td>anime</td>\n",
       "      <td>0.517</td>\n",
       "      <td>0.3640</td>\n",
       "      <td>4</td>\n",
       "      <td>-16.545</td>\n",
       "      <td>131.958</td>\n",
       "      <td>4</td>\n",
       "      <td>0.964000</td>\n",
       "      <td>0.2300</td>\n",
       "      <td>0.7260</td>\n",
       "    </tr>\n",
       "    <tr>\n",
       "      <th>9971</th>\n",
       "      <td>1DXSEjzzL5x9TybrYE2A3K</td>\n",
       "      <td>Eminent (Soundtrack from the Anime \"Black Butl...</td>\n",
       "      <td>Rolelush</td>\n",
       "      <td>Anime and Game on Piano</td>\n",
       "      <td>2018-12-03</td>\n",
       "      <td>80039</td>\n",
       "      <td>anime</td>\n",
       "      <td>0.323</td>\n",
       "      <td>0.1690</td>\n",
       "      <td>2</td>\n",
       "      <td>-23.435</td>\n",
       "      <td>117.083</td>\n",
       "      <td>4</td>\n",
       "      <td>0.844000</td>\n",
       "      <td>0.2120</td>\n",
       "      <td>0.0954</td>\n",
       "    </tr>\n",
       "    <tr>\n",
       "      <th>9972</th>\n",
       "      <td>1E65lXfTCueQizuL4z8knx</td>\n",
       "      <td>A Silent Voice- Lit var - Koe no Katachi</td>\n",
       "      <td>Otaku Muisc</td>\n",
       "      <td>Opening Triste ,Vol.1</td>\n",
       "      <td>2022-04-11</td>\n",
       "      <td>150932</td>\n",
       "      <td>anime</td>\n",
       "      <td>0.386</td>\n",
       "      <td>0.0448</td>\n",
       "      <td>7</td>\n",
       "      <td>-19.892</td>\n",
       "      <td>88.128</td>\n",
       "      <td>3</td>\n",
       "      <td>0.958000</td>\n",
       "      <td>0.1030</td>\n",
       "      <td>0.0729</td>\n",
       "    </tr>\n",
       "    <tr>\n",
       "      <th>9973</th>\n",
       "      <td>1fDkKDjiAgVn3uQPpvdAPx</td>\n",
       "      <td>Nabiki's Letter to Peace</td>\n",
       "      <td>ChillHoop</td>\n",
       "      <td>Anime Moonlight Vol. 2</td>\n",
       "      <td>2024-07-12</td>\n",
       "      <td>99000</td>\n",
       "      <td>anime</td>\n",
       "      <td>0.706</td>\n",
       "      <td>0.1920</td>\n",
       "      <td>9</td>\n",
       "      <td>-18.031</td>\n",
       "      <td>79.990</td>\n",
       "      <td>4</td>\n",
       "      <td>0.168000</td>\n",
       "      <td>0.3070</td>\n",
       "      <td>0.3240</td>\n",
       "    </tr>\n",
       "  </tbody>\n",
       "</table>\n",
       "<p>9974 rows × 16 columns</p>\n",
       "</div>"
      ],
      "text/plain": [
       "                     song_id  \\\n",
       "0     57Pk2GU0ABFYBbbcgYxqki   \n",
       "1     6WzRpISELf3YglGAh7TXcG   \n",
       "2     6z3HAUZpAyJ0ctsbAwAiw3   \n",
       "3     6uFn47ACjqYkc0jADwEdj1   \n",
       "4     4GssB27iJeqmfGxS94Tfij   \n",
       "...                      ...   \n",
       "9969  4FmUrmRianI41BlO2RYhew   \n",
       "9970  45YTUUPFSm6GS6LsddwRmj   \n",
       "9971  1DXSEjzzL5x9TybrYE2A3K   \n",
       "9972  1E65lXfTCueQizuL4z8knx   \n",
       "9973  1fDkKDjiAgVn3uQPpvdAPx   \n",
       "\n",
       "                                                  title         artist_name  \\\n",
       "0     Popular - From \"Wicked\" Original Broadway Cast...    Stephen Schwartz   \n",
       "1     Popular (with Playboi Carti & Madonna) - From ...          The Weeknd   \n",
       "2                                             Pop Muzik                   M   \n",
       "3                              Pop Out (feat. Lil Tjay)              Polo G   \n",
       "4                                       Popular Monster  Falling In Reverse   \n",
       "...                                                 ...                 ...   \n",
       "9969                She Was Here, Alone (From \"Erased\")      LucasPianoRoom   \n",
       "9970     Beautiful World (From \"Darling in the FranXX\")             Fonzi M   \n",
       "9971  Eminent (Soundtrack from the Anime \"Black Butl...            Rolelush   \n",
       "9972           A Silent Voice- Lit var - Koe no Katachi         Otaku Muisc   \n",
       "9973                           Nabiki's Letter to Peace           ChillHoop   \n",
       "\n",
       "                                             album_name release_date  \\\n",
       "0     Wicked (Original Broadway Cast Recording / Del...   2013-01-01   \n",
       "1          Popular (Music from the HBO Original Series)   2023-06-02   \n",
       "2                                             Pop Muzik   2022-06-03   \n",
       "3                                          Die A Legend   2019-06-07   \n",
       "4                                       Popular Monster   2019-11-20   \n",
       "...                                                 ...          ...   \n",
       "9969                                Anime Piano, Vol. 2   2020-04-02   \n",
       "9970     Anime Piano Music Collection in Spring, Vol. 2   2018-04-20   \n",
       "9971                            Anime and Game on Piano   2018-12-03   \n",
       "9972                              Opening Triste ,Vol.1   2022-04-11   \n",
       "9973                             Anime Moonlight Vol. 2   2024-07-12   \n",
       "\n",
       "      duration_ms  genre  danceability  energy  key  loudness    tempo  \\\n",
       "0          224386    pop         0.711  0.2280    0   -12.850   88.714   \n",
       "1          215466    pop         0.854  0.6740    1    -6.230   99.022   \n",
       "2          200682    pop         0.935  0.8330    1    -7.493  108.914   \n",
       "3          166560    pop         0.772  0.6390    1    -7.119  168.112   \n",
       "4          220537    pop         0.461  0.8970    3    -3.982  165.107   \n",
       "...           ...    ...           ...     ...  ...       ...      ...   \n",
       "9969       140945  anime         0.442  0.0593    4   -19.093   62.987   \n",
       "9970        92282  anime         0.517  0.3640    4   -16.545  131.958   \n",
       "9971        80039  anime         0.323  0.1690    2   -23.435  117.083   \n",
       "9972       150932  anime         0.386  0.0448    7   -19.892   88.128   \n",
       "9973        99000  anime         0.706  0.1920    9   -18.031   79.990   \n",
       "\n",
       "      time_signature  instrumentalness  liveness  valence  \n",
       "0                  4          0.000000    0.1220   0.5480  \n",
       "1                  4          0.000085    0.5090   0.8480  \n",
       "2                  4          0.000016    0.0792   0.9670  \n",
       "3                  4          0.000000    0.0698   0.2610  \n",
       "4                  4          0.000000    0.0965   0.3580  \n",
       "...              ...               ...       ...      ...  \n",
       "9969               3          0.951000    0.1550   0.1080  \n",
       "9970               4          0.964000    0.2300   0.7260  \n",
       "9971               4          0.844000    0.2120   0.0954  \n",
       "9972               3          0.958000    0.1030   0.0729  \n",
       "9973               4          0.168000    0.3070   0.3240  \n",
       "\n",
       "[9974 rows x 16 columns]"
      ]
     },
     "execution_count": 8,
     "metadata": {},
     "output_type": "execute_result"
    }
   ],
   "source": [
    "data"
   ]
  },
  {
   "cell_type": "markdown",
   "metadata": {},
   "source": [
    "# YProfiling"
   ]
  },
  {
   "cell_type": "code",
   "execution_count": 5,
   "metadata": {},
   "outputs": [
    {
     "data": {
      "application/vnd.jupyter.widget-view+json": {
       "model_id": "eb22944cfdad4123a48fd894eb32493e",
       "version_major": 2,
       "version_minor": 0
      },
      "text/plain": [
       "Summarize dataset:   0%|          | 0/5 [00:00<?, ?it/s]"
      ]
     },
     "metadata": {},
     "output_type": "display_data"
    },
    {
     "data": {
      "application/vnd.jupyter.widget-view+json": {
       "model_id": "a886f41840d64d65a2d74f76b465cd15",
       "version_major": 2,
       "version_minor": 0
      },
      "text/plain": [
       "Generate report structure:   0%|          | 0/1 [00:00<?, ?it/s]"
      ]
     },
     "metadata": {},
     "output_type": "display_data"
    },
    {
     "data": {
      "application/vnd.jupyter.widget-view+json": {
       "model_id": "2d7c78a51bb94f9d95459cca354181b4",
       "version_major": 2,
       "version_minor": 0
      },
      "text/plain": [
       "Render HTML:   0%|          | 0/1 [00:00<?, ?it/s]"
      ]
     },
     "metadata": {},
     "output_type": "display_data"
    },
    {
     "data": {
      "application/vnd.jupyter.widget-view+json": {
       "model_id": "02477b2a11f7420d82b571bced541feb",
       "version_major": 2,
       "version_minor": 0
      },
      "text/plain": [
       "Export report to file:   0%|          | 0/1 [00:00<?, ?it/s]"
      ]
     },
     "metadata": {},
     "output_type": "display_data"
    }
   ],
   "source": [
    "profile = ProfileReport(data, title=\"Data Profiling Report\", explorative=True)\n",
    "profile.to_file(\"data_profile_report.html\")"
   ]
  },
  {
   "cell_type": "code",
   "execution_count": 6,
   "metadata": {},
   "outputs": [
    {
     "name": "stdout",
     "output_type": "stream",
     "text": [
      "Dataset Overview:\n",
      "<class 'pandas.core.frame.DataFrame'>\n",
      "RangeIndex: 9974 entries, 0 to 9973\n",
      "Data columns (total 16 columns):\n",
      " #   Column            Non-Null Count  Dtype  \n",
      "---  ------            --------------  -----  \n",
      " 0   song_id           9974 non-null   object \n",
      " 1   title             9974 non-null   object \n",
      " 2   artist_name       9974 non-null   object \n",
      " 3   album_name        9974 non-null   object \n",
      " 4   release_date      9974 non-null   object \n",
      " 5   duration_ms       9974 non-null   int64  \n",
      " 6   genre             9974 non-null   object \n",
      " 7   danceability      9974 non-null   float64\n",
      " 8   energy            9974 non-null   float64\n",
      " 9   key               9974 non-null   int64  \n",
      " 10  loudness          9974 non-null   float64\n",
      " 11  tempo             9974 non-null   float64\n",
      " 12  time_signature    9974 non-null   int64  \n",
      " 13  instrumentalness  9974 non-null   float64\n",
      " 14  liveness          9974 non-null   float64\n",
      " 15  valence           9974 non-null   float64\n",
      "dtypes: float64(7), int64(3), object(6)\n",
      "memory usage: 1.2+ MB\n",
      "None\n",
      "\n",
      "Summary Statistics:\n",
      "        duration_ms  danceability       energy          key     loudness  \\\n",
      "count  9.974000e+03   9974.000000  9974.000000  9974.000000  9974.000000   \n",
      "mean   1.966481e+05      0.577202     0.599220     5.176359   -10.504410   \n",
      "std    1.006516e+05      0.181742     0.291608     3.611523     6.931081   \n",
      "min    3.001400e+04      0.000000     0.000019     0.000000   -46.986000   \n",
      "25%    1.384418e+05      0.457250     0.378000     2.000000   -13.141750   \n",
      "50%    1.871130e+05      0.595000     0.652000     5.000000    -8.399500   \n",
      "75%    2.348782e+05      0.714000     0.856000     8.000000    -5.730000   \n",
      "max    3.600014e+06      0.985000     1.000000    11.000000     0.642000   \n",
      "\n",
      "             tempo  time_signature  instrumentalness     liveness      valence  \n",
      "count  9974.000000     9974.000000       9974.000000  9974.000000  9974.000000  \n",
      "mean    121.377475        3.911169          0.354901     0.192766     0.465446  \n",
      "std      30.005565        0.401703          0.408154     0.161523     0.261067  \n",
      "min       0.000000        0.000000          0.000000     0.011400     0.000000  \n",
      "25%      99.062750        4.000000          0.000005     0.098300     0.246000  \n",
      "50%     120.982000        4.000000          0.034050     0.122000     0.452000  \n",
      "75%     140.016000        4.000000          0.846000     0.242000     0.672750  \n",
      "max     220.010000        5.000000          0.998000     0.991000     1.000000  \n"
     ]
    }
   ],
   "source": [
    "print(\"Dataset Overview:\")\n",
    "print(data.info())\n",
    "print(\"\\nSummary Statistics:\")\n",
    "print(data.describe())"
   ]
  },
  {
   "cell_type": "code",
   "execution_count": 7,
   "metadata": {},
   "outputs": [
    {
     "name": "stdout",
     "output_type": "stream",
     "text": [
      "\n",
      "Missing Values:\n",
      "Series([], dtype: int64)\n"
     ]
    }
   ],
   "source": [
    "print(\"\\nMissing Values:\")\n",
    "missing_values = data.isnull().sum()\n",
    "print(missing_values[missing_values > 0])"
   ]
  },
  {
   "cell_type": "code",
   "execution_count": 8,
   "metadata": {},
   "outputs": [
    {
     "name": "stdout",
     "output_type": "stream",
     "text": [
      "\n",
      "Correlation Matrix:\n",
      "                  duration_ms  danceability    energy       key  loudness  \\\n",
      "duration_ms          1.000000     -0.117077  0.264456  0.023241  0.262563   \n",
      "danceability        -0.117077      1.000000 -0.076999  0.040745  0.083217   \n",
      "energy               0.264456     -0.076999  1.000000  0.045882  0.814548   \n",
      "key                  0.023241      0.040745  0.045882  1.000000  0.034264   \n",
      "loudness             0.262563      0.083217  0.814548  0.034264  1.000000   \n",
      "tempo                0.014308     -0.032599  0.219012  0.004258  0.179318   \n",
      "time_signature       0.023823      0.159767  0.148858  0.032779  0.152128   \n",
      "instrumentalness    -0.136919     -0.104790 -0.354894 -0.017821 -0.519856   \n",
      "liveness             0.088121     -0.143420  0.246784  0.006166  0.191247   \n",
      "valence             -0.031537      0.435494  0.217385  0.041014  0.258035   \n",
      "\n",
      "                     tempo  time_signature  instrumentalness  liveness  \\\n",
      "duration_ms       0.014308        0.023823         -0.136919  0.088121   \n",
      "danceability     -0.032599        0.159767         -0.104790 -0.143420   \n",
      "energy            0.219012        0.148858         -0.354894  0.246784   \n",
      "key               0.004258        0.032779         -0.017821  0.006166   \n",
      "loudness          0.179318        0.152128         -0.519856  0.191247   \n",
      "tempo             1.000000        0.018850         -0.081819  0.028476   \n",
      "time_signature    0.018850        1.000000         -0.081122  0.020311   \n",
      "instrumentalness -0.081819       -0.081122          1.000000 -0.177141   \n",
      "liveness          0.028476        0.020311         -0.177141  1.000000   \n",
      "valence           0.104884        0.118652         -0.271413  0.030062   \n",
      "\n",
      "                   valence  \n",
      "duration_ms      -0.031537  \n",
      "danceability      0.435494  \n",
      "energy            0.217385  \n",
      "key               0.041014  \n",
      "loudness          0.258035  \n",
      "tempo             0.104884  \n",
      "time_signature    0.118652  \n",
      "instrumentalness -0.271413  \n",
      "liveness          0.030062  \n",
      "valence           1.000000  \n"
     ]
    }
   ],
   "source": [
    "data_corr = data.drop(['song_id','title','artist_name','album_name','release_date','genre'], axis=1)\n",
    "print(\"\\nCorrelation Matrix:\")\n",
    "correlation_matrix = data_corr.corr()\n",
    "print(correlation_matrix)"
   ]
  },
  {
   "cell_type": "code",
   "execution_count": 9,
   "metadata": {},
   "outputs": [
    {
     "data": {
      "image/png": "[encoded data removed]",
      "text/plain": [
       "<Figure size 1200x800 with 2 Axes>"
      ]
     },
     "metadata": {},
     "output_type": "display_data"
    }
   ],
   "source": [
    "%matplotlib inline\n",
    "plt.figure(figsize=(12, 8))\n",
    "sns.heatmap(correlation_matrix, annot=True, cmap=\"coolwarm\", fmt=\".2f\")\n",
    "plt.title(\"Correlation Matrix Heatmap\")\n",
    "plt.show()"
   ]
  },
  {
   "cell_type": "code",
   "execution_count": 10,
   "metadata": {},
   "outputs": [
    {
     "name": "stdout",
     "output_type": "stream",
     "text": [
      "\n",
      "Observing distributions and capped values:\n"
     ]
    },
    {
     "name": "stderr",
     "output_type": "stream",
     "text": [
      "d:\\Main_Python\\.venv\\Lib\\site-packages\\seaborn\\_oldcore.py:1119: FutureWarning: use_inf_as_na option is deprecated and will be removed in a future version. Convert inf values to NaN before operating instead.\n",
      "  with pd.option_context('mode.use_inf_as_na', True):\n"
     ]
    },
    {
     "data": {
      "image/png": "[encoded data removed]",
      "text/plain": [
       "<Figure size 1000x600 with 1 Axes>"
      ]
     },
     "metadata": {},
     "output_type": "display_data"
    },
    {
     "name": "stderr",
     "output_type": "stream",
     "text": [
      "d:\\Main_Python\\.venv\\Lib\\site-packages\\seaborn\\_oldcore.py:1119: FutureWarning: use_inf_as_na option is deprecated and will be removed in a future version. Convert inf values to NaN before operating instead.\n",
      "  with pd.option_context('mode.use_inf_as_na', True):\n"
     ]
    },
    {
     "data": {
      "image/png": "[encoded data removed]",
      "text/plain": [
       "<Figure size 1000x600 with 1 Axes>"
      ]
     },
     "metadata": {},
     "output_type": "display_data"
    },
    {
     "name": "stderr",
     "output_type": "stream",
     "text": [
      "d:\\Main_Python\\.venv\\Lib\\site-packages\\seaborn\\_oldcore.py:1119: FutureWarning: use_inf_as_na option is deprecated and will be removed in a future version. Convert inf values to NaN before operating instead.\n",
      "  with pd.option_context('mode.use_inf_as_na', True):\n"
     ]
    },
    {
     "data": {
      "image/png": "[encoded data removed]",
      "text/plain": [
       "<Figure size 1000x600 with 1 Axes>"
      ]
     },
     "metadata": {},
     "output_type": "display_data"
    },
    {
     "name": "stderr",
     "output_type": "stream",
     "text": [
      "d:\\Main_Python\\.venv\\Lib\\site-packages\\seaborn\\_oldcore.py:1119: FutureWarning: use_inf_as_na option is deprecated and will be removed in a future version. Convert inf values to NaN before operating instead.\n",
      "  with pd.option_context('mode.use_inf_as_na', True):\n"
     ]
    },
    {
     "data": {
      "image/png": "[encoded data removed]",
      "text/plain": [
       "<Figure size 1000x600 with 1 Axes>"
      ]
     },
     "metadata": {},
     "output_type": "display_data"
    },
    {
     "name": "stderr",
     "output_type": "stream",
     "text": [
      "d:\\Main_Python\\.venv\\Lib\\site-packages\\seaborn\\_oldcore.py:1119: FutureWarning: use_inf_as_na option is deprecated and will be removed in a future version. Convert inf values to NaN before operating instead.\n",
      "  with pd.option_context('mode.use_inf_as_na', True):\n"
     ]
    },
    {
     "data": {
      "image/png": "[encoded data removed]",
      "text/plain": [
       "<Figure size 1000x600 with 1 Axes>"
      ]
     },
     "metadata": {},
     "output_type": "display_data"
    },
    {
     "name": "stderr",
     "output_type": "stream",
     "text": [
      "d:\\Main_Python\\.venv\\Lib\\site-packages\\seaborn\\_oldcore.py:1119: FutureWarning: use_inf_as_na option is deprecated and will be removed in a future version. Convert inf values to NaN before operating instead.\n",
      "  with pd.option_context('mode.use_inf_as_na', True):\n"
     ]
    },
    {
     "data": {
      "image/png": "[encoded data removed]",
      "text/plain": [
       "<Figure size 1000x600 with 1 Axes>"
      ]
     },
     "metadata": {},
     "output_type": "display_data"
    },
    {
     "name": "stderr",
     "output_type": "stream",
     "text": [
      "d:\\Main_Python\\.venv\\Lib\\site-packages\\seaborn\\_oldcore.py:1119: FutureWarning: use_inf_as_na option is deprecated and will be removed in a future version. Convert inf values to NaN before operating instead.\n",
      "  with pd.option_context('mode.use_inf_as_na', True):\n"
     ]
    },
    {
     "data": {
      "image/png": "[encoded data removed]",
      "text/plain": [
       "<Figure size 1000x600 with 1 Axes>"
      ]
     },
     "metadata": {},
     "output_type": "display_data"
    },
    {
     "name": "stderr",
     "output_type": "stream",
     "text": [
      "d:\\Main_Python\\.venv\\Lib\\site-packages\\seaborn\\_oldcore.py:1119: FutureWarning: use_inf_as_na option is deprecated and will be removed in a future version. Convert inf values to NaN before operating instead.\n",
      "  with pd.option_context('mode.use_inf_as_na', True):\n"
     ]
    },
    {
     "data": {
      "image/png": "[encoded data removed]",
      "text/plain": [
       "<Figure size 1000x600 with 1 Axes>"
      ]
     },
     "metadata": {},
     "output_type": "display_data"
    },
    {
     "name": "stderr",
     "output_type": "stream",
     "text": [
      "d:\\Main_Python\\.venv\\Lib\\site-packages\\seaborn\\_oldcore.py:1119: FutureWarning: use_inf_as_na option is deprecated and will be removed in a future version. Convert inf values to NaN before operating instead.\n",
      "  with pd.option_context('mode.use_inf_as_na', True):\n"
     ]
    },
    {
     "data": {
      "image/png": "[encoded data removed]",
      "text/plain": [
       "<Figure size 1000x600 with 1 Axes>"
      ]
     },
     "metadata": {},
     "output_type": "display_data"
    },
    {
     "name": "stderr",
     "output_type": "stream",
     "text": [
      "d:\\Main_Python\\.venv\\Lib\\site-packages\\seaborn\\_oldcore.py:1119: FutureWarning: use_inf_as_na option is deprecated and will be removed in a future version. Convert inf values to NaN before operating instead.\n",
      "  with pd.option_context('mode.use_inf_as_na', True):\n"
     ]
    },
    {
     "data": {
      "image/png": "[encoded data removed]",
      "text/plain": [
       "<Figure size 1000x600 with 1 Axes>"
      ]
     },
     "metadata": {},
     "output_type": "display_data"
    }
   ],
   "source": [
    "# Identify capped values and distributions\n",
    "print(\"\\nObserving distributions and capped values:\")\n",
    "for column in data.select_dtypes(include=['float64', 'int64']):\n",
    "    plt.figure(figsize=(10, 6))\n",
    "    sns.histplot(data[column], kde=True, bins=30, color=\"blue\")\n",
    "    plt.title(f\"Distribution of {column}\")\n",
    "    plt.xlabel(column)\n",
    "    plt.ylabel(\"Frequency\")\n",
    "    plt.show()"
   ]
  },
  {
   "cell_type": "code",
   "execution_count": 11,
   "metadata": {},
   "outputs": [
    {
     "name": "stdout",
     "output_type": "stream",
     "text": [
      "\n",
      "Data Cleanup Tasks:\n",
      "- Column key appears to have capped values; investigate and address.\n",
      "- Column time_signature appears to have capped values; investigate and address.\n"
     ]
    }
   ],
   "source": [
    "cleanup_tasks = []\n",
    "\n",
    "if missing_values.sum() > 0:\n",
    "    cleanup_tasks.append(\"Handle missing values (imputation or removal).\")\n",
    "\n",
    "for column in data.select_dtypes(include=['float64', 'int64']):\n",
    "    if data[column].max() == data[column].quantile(0.99):\n",
    "        cleanup_tasks.append(f\"Column {column} appears to have capped values; investigate and address.\")\n",
    "\n",
    "low_variance_features = [\n",
    "    column for column in data.columns\n",
    "    if data[column].nunique() == 1\n",
    "]\n",
    "if low_variance_features:\n",
    "    cleanup_tasks.append(f\"Low variance features found: {low_variance_features}. Consider removal.\")\n",
    "\n",
    "high_corr_pairs = correlation_matrix.abs().unstack().sort_values(ascending=False)\n",
    "high_corr_pairs = high_corr_pairs[high_corr_pairs < 1.0]  \n",
    "if high_corr_pairs.iloc[0] > 0.9:\n",
    "    cleanup_tasks.append(\"Highly correlated features found; consider feature selection to address multicollinearity.\")\n",
    "\n",
    "print(\"\\nData Cleanup Tasks:\")\n",
    "for task in cleanup_tasks:\n",
    "    print(f\"- {task}\")"
   ]
  },
  {
   "cell_type": "code",
   "execution_count": 12,
   "metadata": {},
   "outputs": [
    {
     "name": "stdout",
     "output_type": "stream",
     "text": [
      "'key' is likely capped at 11.\n",
      "'time_signature' is likely capped at 5.\n"
     ]
    }
   ],
   "source": [
    "# Check for capped values in 'key'\n",
    "key_max = data['key'].max()\n",
    "key_99th_percentile = data['key'].quantile(0.99)\n",
    "if key_max == key_99th_percentile:\n",
    "    print(f\"'key' is likely capped at {key_max}.\")\n",
    "\n",
    "# Check for capped values in 'time_signature'\n",
    "time_signature_max = data['time_signature'].max()\n",
    "time_signature_99th_percentile = data['time_signature'].quantile(0.99)\n",
    "if time_signature_max == time_signature_99th_percentile:\n",
    "    print(f\"'time_signature' is likely capped at {time_signature_max}.\")\n"
   ]
  },
  {
   "cell_type": "code",
   "execution_count": 9,
   "metadata": {},
   "outputs": [],
   "source": [
    "min_loudness = data[\"loudness\"].min()  \n",
    "max_loudness = data[\"loudness\"].max()\n",
    "\n",
    "data[\"normalized_loudness\"] = (data[\"loudness\"] - min_loudness) / (max_loudness - min_loudness)\n"
   ]
  },
  {
   "cell_type": "code",
   "execution_count": 10,
   "metadata": {},
   "outputs": [],
   "source": [
    "def map_to_mood(row):\n",
    "    if row[\"valence\"] > 0.7 and row[\"energy\"] > 0.6:\n",
    "        return \"Happy\"\n",
    "    elif row[\"valence\"] > 0.3 and row[\"energy\"] < 0.3:\n",
    "        return \"Calm\"\n",
    "    elif row[\"valence\"] < 0.3 and row[\"normalized_loudness\"] < 0.2: \n",
    "        return \"Sad\"\n",
    "    elif row[\"energy\"] > 0.8 and row[\"tempo\"] > 130:\n",
    "        return \"Energetic\"\n",
    "    elif row[\"instrumentalness\"] > 0.5:\n",
    "        return \"Instrumental\"\n",
    "    elif row[\"liveness\"] > 0.7:\n",
    "        return \"Live\"\n",
    "    else:\n",
    "        return \"Neutral\"\n",
    "\n",
    "data[\"mood\"] = data.apply(map_to_mood, axis=1)"
   ]
  },
  {
   "cell_type": "code",
   "execution_count": 11,
   "metadata": {},
   "outputs": [
    {
     "data": {
      "text/html": [
       "<div>\n",
       "<style scoped>\n",
       "    .dataframe tbody tr th:only-of-type {\n",
       "        vertical-align: middle;\n",
       "    }\n",
       "\n",
       "    .dataframe tbody tr th {\n",
       "        vertical-align: top;\n",
       "    }\n",
       "\n",
       "    .dataframe thead th {\n",
       "        text-align: right;\n",
       "    }\n",
       "</style>\n",
       "<table border=\"1\" class=\"dataframe\">\n",
       "  <thead>\n",
       "    <tr style=\"text-align: right;\">\n",
       "      <th></th>\n",
       "      <th>song_id</th>\n",
       "      <th>title</th>\n",
       "      <th>artist_name</th>\n",
       "      <th>album_name</th>\n",
       "      <th>release_date</th>\n",
       "      <th>duration_ms</th>\n",
       "      <th>genre</th>\n",
       "      <th>danceability</th>\n",
       "      <th>energy</th>\n",
       "      <th>key</th>\n",
       "      <th>loudness</th>\n",
       "      <th>tempo</th>\n",
       "      <th>time_signature</th>\n",
       "      <th>instrumentalness</th>\n",
       "      <th>liveness</th>\n",
       "      <th>valence</th>\n",
       "      <th>normalized_loudness</th>\n",
       "      <th>mood</th>\n",
       "    </tr>\n",
       "  </thead>\n",
       "  <tbody>\n",
       "    <tr>\n",
       "      <th>0</th>\n",
       "      <td>57Pk2GU0ABFYBbbcgYxqki</td>\n",
       "      <td>Popular - From \"Wicked\" Original Broadway Cast...</td>\n",
       "      <td>Stephen Schwartz</td>\n",
       "      <td>Wicked (Original Broadway Cast Recording / Del...</td>\n",
       "      <td>2013-01-01</td>\n",
       "      <td>224386</td>\n",
       "      <td>pop</td>\n",
       "      <td>0.711</td>\n",
       "      <td>0.2280</td>\n",
       "      <td>0</td>\n",
       "      <td>-12.850</td>\n",
       "      <td>88.714</td>\n",
       "      <td>4</td>\n",
       "      <td>0.000000</td>\n",
       "      <td>0.1220</td>\n",
       "      <td>0.5480</td>\n",
       "      <td>0.716721</td>\n",
       "      <td>Calm</td>\n",
       "    </tr>\n",
       "    <tr>\n",
       "      <th>1</th>\n",
       "      <td>6WzRpISELf3YglGAh7TXcG</td>\n",
       "      <td>Popular (with Playboi Carti &amp; Madonna) - From ...</td>\n",
       "      <td>The Weeknd</td>\n",
       "      <td>Popular (Music from the HBO Original Series)</td>\n",
       "      <td>2023-06-02</td>\n",
       "      <td>215466</td>\n",
       "      <td>pop</td>\n",
       "      <td>0.854</td>\n",
       "      <td>0.6740</td>\n",
       "      <td>1</td>\n",
       "      <td>-6.230</td>\n",
       "      <td>99.022</td>\n",
       "      <td>4</td>\n",
       "      <td>0.000085</td>\n",
       "      <td>0.5090</td>\n",
       "      <td>0.8480</td>\n",
       "      <td>0.855715</td>\n",
       "      <td>Happy</td>\n",
       "    </tr>\n",
       "    <tr>\n",
       "      <th>2</th>\n",
       "      <td>6z3HAUZpAyJ0ctsbAwAiw3</td>\n",
       "      <td>Pop Muzik</td>\n",
       "      <td>M</td>\n",
       "      <td>Pop Muzik</td>\n",
       "      <td>2022-06-03</td>\n",
       "      <td>200682</td>\n",
       "      <td>pop</td>\n",
       "      <td>0.935</td>\n",
       "      <td>0.8330</td>\n",
       "      <td>1</td>\n",
       "      <td>-7.493</td>\n",
       "      <td>108.914</td>\n",
       "      <td>4</td>\n",
       "      <td>0.000016</td>\n",
       "      <td>0.0792</td>\n",
       "      <td>0.9670</td>\n",
       "      <td>0.829197</td>\n",
       "      <td>Happy</td>\n",
       "    </tr>\n",
       "    <tr>\n",
       "      <th>3</th>\n",
       "      <td>6uFn47ACjqYkc0jADwEdj1</td>\n",
       "      <td>Pop Out (feat. Lil Tjay)</td>\n",
       "      <td>Polo G</td>\n",
       "      <td>Die A Legend</td>\n",
       "      <td>2019-06-07</td>\n",
       "      <td>166560</td>\n",
       "      <td>pop</td>\n",
       "      <td>0.772</td>\n",
       "      <td>0.6390</td>\n",
       "      <td>1</td>\n",
       "      <td>-7.119</td>\n",
       "      <td>168.112</td>\n",
       "      <td>4</td>\n",
       "      <td>0.000000</td>\n",
       "      <td>0.0698</td>\n",
       "      <td>0.2610</td>\n",
       "      <td>0.837050</td>\n",
       "      <td>Neutral</td>\n",
       "    </tr>\n",
       "    <tr>\n",
       "      <th>4</th>\n",
       "      <td>4GssB27iJeqmfGxS94Tfij</td>\n",
       "      <td>Popular Monster</td>\n",
       "      <td>Falling In Reverse</td>\n",
       "      <td>Popular Monster</td>\n",
       "      <td>2019-11-20</td>\n",
       "      <td>220537</td>\n",
       "      <td>pop</td>\n",
       "      <td>0.461</td>\n",
       "      <td>0.8970</td>\n",
       "      <td>3</td>\n",
       "      <td>-3.982</td>\n",
       "      <td>165.107</td>\n",
       "      <td>4</td>\n",
       "      <td>0.000000</td>\n",
       "      <td>0.0965</td>\n",
       "      <td>0.3580</td>\n",
       "      <td>0.902914</td>\n",
       "      <td>Energetic</td>\n",
       "    </tr>\n",
       "    <tr>\n",
       "      <th>...</th>\n",
       "      <td>...</td>\n",
       "      <td>...</td>\n",
       "      <td>...</td>\n",
       "      <td>...</td>\n",
       "      <td>...</td>\n",
       "      <td>...</td>\n",
       "      <td>...</td>\n",
       "      <td>...</td>\n",
       "      <td>...</td>\n",
       "      <td>...</td>\n",
       "      <td>...</td>\n",
       "      <td>...</td>\n",
       "      <td>...</td>\n",
       "      <td>...</td>\n",
       "      <td>...</td>\n",
       "      <td>...</td>\n",
       "      <td>...</td>\n",
       "      <td>...</td>\n",
       "    </tr>\n",
       "    <tr>\n",
       "      <th>9969</th>\n",
       "      <td>4FmUrmRianI41BlO2RYhew</td>\n",
       "      <td>She Was Here, Alone (From \"Erased\")</td>\n",
       "      <td>LucasPianoRoom</td>\n",
       "      <td>Anime Piano, Vol. 2</td>\n",
       "      <td>2020-04-02</td>\n",
       "      <td>140945</td>\n",
       "      <td>anime</td>\n",
       "      <td>0.442</td>\n",
       "      <td>0.0593</td>\n",
       "      <td>4</td>\n",
       "      <td>-19.093</td>\n",
       "      <td>62.987</td>\n",
       "      <td>3</td>\n",
       "      <td>0.951000</td>\n",
       "      <td>0.1550</td>\n",
       "      <td>0.1080</td>\n",
       "      <td>0.585643</td>\n",
       "      <td>Instrumental</td>\n",
       "    </tr>\n",
       "    <tr>\n",
       "      <th>9970</th>\n",
       "      <td>45YTUUPFSm6GS6LsddwRmj</td>\n",
       "      <td>Beautiful World (From \"Darling in the FranXX\")</td>\n",
       "      <td>Fonzi M</td>\n",
       "      <td>Anime Piano Music Collection in Spring, Vol. 2</td>\n",
       "      <td>2018-04-20</td>\n",
       "      <td>92282</td>\n",
       "      <td>anime</td>\n",
       "      <td>0.517</td>\n",
       "      <td>0.3640</td>\n",
       "      <td>4</td>\n",
       "      <td>-16.545</td>\n",
       "      <td>131.958</td>\n",
       "      <td>4</td>\n",
       "      <td>0.964000</td>\n",
       "      <td>0.2300</td>\n",
       "      <td>0.7260</td>\n",
       "      <td>0.639141</td>\n",
       "      <td>Instrumental</td>\n",
       "    </tr>\n",
       "    <tr>\n",
       "      <th>9971</th>\n",
       "      <td>1DXSEjzzL5x9TybrYE2A3K</td>\n",
       "      <td>Eminent (Soundtrack from the Anime \"Black Butl...</td>\n",
       "      <td>Rolelush</td>\n",
       "      <td>Anime and Game on Piano</td>\n",
       "      <td>2018-12-03</td>\n",
       "      <td>80039</td>\n",
       "      <td>anime</td>\n",
       "      <td>0.323</td>\n",
       "      <td>0.1690</td>\n",
       "      <td>2</td>\n",
       "      <td>-23.435</td>\n",
       "      <td>117.083</td>\n",
       "      <td>4</td>\n",
       "      <td>0.844000</td>\n",
       "      <td>0.2120</td>\n",
       "      <td>0.0954</td>\n",
       "      <td>0.494478</td>\n",
       "      <td>Instrumental</td>\n",
       "    </tr>\n",
       "    <tr>\n",
       "      <th>9972</th>\n",
       "      <td>1E65lXfTCueQizuL4z8knx</td>\n",
       "      <td>A Silent Voice- Lit var - Koe no Katachi</td>\n",
       "      <td>Otaku Muisc</td>\n",
       "      <td>Opening Triste ,Vol.1</td>\n",
       "      <td>2022-04-11</td>\n",
       "      <td>150932</td>\n",
       "      <td>anime</td>\n",
       "      <td>0.386</td>\n",
       "      <td>0.0448</td>\n",
       "      <td>7</td>\n",
       "      <td>-19.892</td>\n",
       "      <td>88.128</td>\n",
       "      <td>3</td>\n",
       "      <td>0.958000</td>\n",
       "      <td>0.1030</td>\n",
       "      <td>0.0729</td>\n",
       "      <td>0.568867</td>\n",
       "      <td>Instrumental</td>\n",
       "    </tr>\n",
       "    <tr>\n",
       "      <th>9973</th>\n",
       "      <td>1fDkKDjiAgVn3uQPpvdAPx</td>\n",
       "      <td>Nabiki's Letter to Peace</td>\n",
       "      <td>ChillHoop</td>\n",
       "      <td>Anime Moonlight Vol. 2</td>\n",
       "      <td>2024-07-12</td>\n",
       "      <td>99000</td>\n",
       "      <td>anime</td>\n",
       "      <td>0.706</td>\n",
       "      <td>0.1920</td>\n",
       "      <td>9</td>\n",
       "      <td>-18.031</td>\n",
       "      <td>79.990</td>\n",
       "      <td>4</td>\n",
       "      <td>0.168000</td>\n",
       "      <td>0.3070</td>\n",
       "      <td>0.3240</td>\n",
       "      <td>0.607941</td>\n",
       "      <td>Calm</td>\n",
       "    </tr>\n",
       "  </tbody>\n",
       "</table>\n",
       "<p>9974 rows × 18 columns</p>\n",
       "</div>"
      ],
      "text/plain": [
       "                     song_id  \\\n",
       "0     57Pk2GU0ABFYBbbcgYxqki   \n",
       "1     6WzRpISELf3YglGAh7TXcG   \n",
       "2     6z3HAUZpAyJ0ctsbAwAiw3   \n",
       "3     6uFn47ACjqYkc0jADwEdj1   \n",
       "4     4GssB27iJeqmfGxS94Tfij   \n",
       "...                      ...   \n",
       "9969  4FmUrmRianI41BlO2RYhew   \n",
       "9970  45YTUUPFSm6GS6LsddwRmj   \n",
       "9971  1DXSEjzzL5x9TybrYE2A3K   \n",
       "9972  1E65lXfTCueQizuL4z8knx   \n",
       "9973  1fDkKDjiAgVn3uQPpvdAPx   \n",
       "\n",
       "                                                  title         artist_name  \\\n",
       "0     Popular - From \"Wicked\" Original Broadway Cast...    Stephen Schwartz   \n",
       "1     Popular (with Playboi Carti & Madonna) - From ...          The Weeknd   \n",
       "2                                             Pop Muzik                   M   \n",
       "3                              Pop Out (feat. Lil Tjay)              Polo G   \n",
       "4                                       Popular Monster  Falling In Reverse   \n",
       "...                                                 ...                 ...   \n",
       "9969                She Was Here, Alone (From \"Erased\")      LucasPianoRoom   \n",
       "9970     Beautiful World (From \"Darling in the FranXX\")             Fonzi M   \n",
       "9971  Eminent (Soundtrack from the Anime \"Black Butl...            Rolelush   \n",
       "9972           A Silent Voice- Lit var - Koe no Katachi         Otaku Muisc   \n",
       "9973                           Nabiki's Letter to Peace           ChillHoop   \n",
       "\n",
       "                                             album_name release_date  \\\n",
       "0     Wicked (Original Broadway Cast Recording / Del...   2013-01-01   \n",
       "1          Popular (Music from the HBO Original Series)   2023-06-02   \n",
       "2                                             Pop Muzik   2022-06-03   \n",
       "3                                          Die A Legend   2019-06-07   \n",
       "4                                       Popular Monster   2019-11-20   \n",
       "...                                                 ...          ...   \n",
       "9969                                Anime Piano, Vol. 2   2020-04-02   \n",
       "9970     Anime Piano Music Collection in Spring, Vol. 2   2018-04-20   \n",
       "9971                            Anime and Game on Piano   2018-12-03   \n",
       "9972                              Opening Triste ,Vol.1   2022-04-11   \n",
       "9973                             Anime Moonlight Vol. 2   2024-07-12   \n",
       "\n",
       "      duration_ms  genre  danceability  energy  key  loudness    tempo  \\\n",
       "0          224386    pop         0.711  0.2280    0   -12.850   88.714   \n",
       "1          215466    pop         0.854  0.6740    1    -6.230   99.022   \n",
       "2          200682    pop         0.935  0.8330    1    -7.493  108.914   \n",
       "3          166560    pop         0.772  0.6390    1    -7.119  168.112   \n",
       "4          220537    pop         0.461  0.8970    3    -3.982  165.107   \n",
       "...           ...    ...           ...     ...  ...       ...      ...   \n",
       "9969       140945  anime         0.442  0.0593    4   -19.093   62.987   \n",
       "9970        92282  anime         0.517  0.3640    4   -16.545  131.958   \n",
       "9971        80039  anime         0.323  0.1690    2   -23.435  117.083   \n",
       "9972       150932  anime         0.386  0.0448    7   -19.892   88.128   \n",
       "9973        99000  anime         0.706  0.1920    9   -18.031   79.990   \n",
       "\n",
       "      time_signature  instrumentalness  liveness  valence  \\\n",
       "0                  4          0.000000    0.1220   0.5480   \n",
       "1                  4          0.000085    0.5090   0.8480   \n",
       "2                  4          0.000016    0.0792   0.9670   \n",
       "3                  4          0.000000    0.0698   0.2610   \n",
       "4                  4          0.000000    0.0965   0.3580   \n",
       "...              ...               ...       ...      ...   \n",
       "9969               3          0.951000    0.1550   0.1080   \n",
       "9970               4          0.964000    0.2300   0.7260   \n",
       "9971               4          0.844000    0.2120   0.0954   \n",
       "9972               3          0.958000    0.1030   0.0729   \n",
       "9973               4          0.168000    0.3070   0.3240   \n",
       "\n",
       "      normalized_loudness          mood  \n",
       "0                0.716721          Calm  \n",
       "1                0.855715         Happy  \n",
       "2                0.829197         Happy  \n",
       "3                0.837050       Neutral  \n",
       "4                0.902914     Energetic  \n",
       "...                   ...           ...  \n",
       "9969             0.585643  Instrumental  \n",
       "9970             0.639141  Instrumental  \n",
       "9971             0.494478  Instrumental  \n",
       "9972             0.568867  Instrumental  \n",
       "9973             0.607941          Calm  \n",
       "\n",
       "[9974 rows x 18 columns]"
      ]
     },
     "execution_count": 11,
     "metadata": {},
     "output_type": "execute_result"
    }
   ],
   "source": [
    "data"
   ]
  },
  {
   "cell_type": "code",
   "execution_count": 12,
   "metadata": {},
   "outputs": [
    {
     "name": "stdout",
     "output_type": "stream",
     "text": [
      "                  song_id                                              title  \\\n",
      "1  6WzRpISELf3YglGAh7TXcG  Popular (with Playboi Carti & Madonna) - From ...   \n",
      "\n",
      "  artist_name                                    album_name release_date  \\\n",
      "1  The Weeknd  Popular (Music from the HBO Original Series)   2023-06-02   \n",
      "\n",
      "   duration_ms genre  danceability  energy  key  loudness   tempo  \\\n",
      "1       215466   pop         0.854   0.674    1     -6.23  99.022   \n",
      "\n",
      "   time_signature  instrumentalness  liveness  valence  normalized_loudness  \\\n",
      "1               4          0.000085     0.509    0.848             0.855715   \n",
      "\n",
      "    mood  \n",
      "1  Happy  \n"
     ]
    }
   ],
   "source": [
    "result = data.loc[data['song_id'] == '6WzRpISELf3YglGAh7TXcG']\n",
    "print(result)"
   ]
  },
  {
   "cell_type": "code",
   "execution_count": 13,
   "metadata": {},
   "outputs": [],
   "source": [
    "encoder = OneHotEncoder(sparse_output=False, handle_unknown=\"ignore\")\n",
    "genre_encoded = encoder.fit_transform(data[[\"genre\"]])\n",
    "\n",
    "genre_encoded_df = pd.DataFrame(genre_encoded, columns=encoder.get_feature_names_out([\"genre\"]))\n",
    "data = pd.concat([data, genre_encoded_df.reset_index(drop=True)], axis=1)\n"
   ]
  },
  {
   "cell_type": "code",
   "execution_count": 14,
   "metadata": {},
   "outputs": [
    {
     "data": {
      "text/plain": [
       "Index(['song_id', 'title', 'artist_name', 'album_name', 'release_date',\n",
       "       'duration_ms', 'genre', 'danceability', 'energy', 'key', 'loudness',\n",
       "       'tempo', 'time_signature', 'instrumentalness', 'liveness', 'valence',\n",
       "       'normalized_loudness', 'mood', 'genre_Electronic', 'genre_Indie',\n",
       "       'genre_anime', 'genre_death-metal', 'genre_disco', 'genre_hard-rock',\n",
       "       'genre_holidays', 'genre_jazz', 'genre_pop', 'genre_rock'],\n",
       "      dtype='object')"
      ]
     },
     "execution_count": 14,
     "metadata": {},
     "output_type": "execute_result"
    }
   ],
   "source": [
    "data.columns"
   ]
  },
  {
   "cell_type": "code",
   "execution_count": 15,
   "metadata": {},
   "outputs": [],
   "source": [
    "X = data[[\"danceability\", \"energy\", \"normalized_loudness\", \"tempo\", \"valence\", \"instrumentalness\", \"liveness\"]]\n",
    "y = data[\"mood\"]"
   ]
  },
  {
   "cell_type": "markdown",
   "metadata": {},
   "source": [
    "# DagsHUB"
   ]
  },
  {
   "cell_type": "code",
   "execution_count": 3,
   "metadata": {},
   "outputs": [
    {
     "data": {
      "text/html": [
       "<pre style=\"white-space:pre;overflow-x:auto;line-height:normal;font-family:Menlo,'DejaVu Sans Mono',consolas,'Courier New',monospace\">Accessing as ShahaDeven\n",
       "</pre>\n"
      ],
      "text/plain": [
       "Accessing as ShahaDeven\n"
      ]
     },
     "metadata": {},
     "output_type": "display_data"
    },
    {
     "data": {
      "text/html": [
       "<pre style=\"white-space:pre;overflow-x:auto;line-height:normal;font-family:Menlo,'DejaVu Sans Mono',consolas,'Courier New',monospace\">Initialized MLflow to track repo <span style=\"color: #008000; text-decoration-color: #008000\">\"shahadeven/503_Project\"</span>\n",
       "</pre>\n"
      ],
      "text/plain": [
       "Initialized MLflow to track repo \u001b[32m\"shahadeven/503_Project\"\u001b[0m\n"
      ]
     },
     "metadata": {},
     "output_type": "display_data"
    },
    {
     "data": {
      "text/html": [
       "<pre style=\"white-space:pre;overflow-x:auto;line-height:normal;font-family:Menlo,'DejaVu Sans Mono',consolas,'Courier New',monospace\">Repository shahadeven/503_Project initialized!\n",
       "</pre>\n"
      ],
      "text/plain": [
       "Repository shahadeven/503_Project initialized!\n"
      ]
     },
     "metadata": {},
     "output_type": "display_data"
    },
    {
     "name": "stdout",
     "output_type": "stream",
     "text": [
      "🏃 View run worried-stag-125 at: https://dagshub.com/shahadeven/503_Project.mlflow/#/experiments/0/runs/53ff07c3fca14de29f8beff7ceee16dc\n",
      "🧪 View experiment at: https://dagshub.com/shahadeven/503_Project.mlflow/#/experiments/0\n"
     ]
    }
   ],
   "source": [
    "dagshub.init(repo_owner='shahadeven',\n",
    "             repo_name='503_Project',\n",
    "             mlflow=True)\n",
    "\n",
    "with mlflow.start_run():\n",
    "  mlflow.log_param('parameter name', 'value')\n",
    "  mlflow.log_metric('metric name', 1)"
   ]
  },
  {
   "cell_type": "code",
   "execution_count": 4,
   "metadata": {},
   "outputs": [],
   "source": [
    "mlflow.set_tracking_uri(\"https://dagshub.com/shahadeven/503_Project.mlflow\")"
   ]
  },
  {
   "cell_type": "code",
   "execution_count": 16,
   "metadata": {},
   "outputs": [
    {
     "name": "stdout",
     "output_type": "stream",
     "text": [
      "mood\n",
      "Neutral         3790\n",
      "Instrumental    2619\n",
      "Happy           1513\n",
      "Energetic        998\n",
      "Calm             913\n",
      "Live             100\n",
      "Sad               41\n",
      "Name: count, dtype: int64\n"
     ]
    }
   ],
   "source": [
    "class_counts = pd.Series(y).value_counts()\n",
    "print(class_counts)"
   ]
  },
  {
   "cell_type": "markdown",
   "metadata": {},
   "source": [
    "# Experiment 1"
   ]
  },
  {
   "cell_type": "code",
   "execution_count": 15,
   "metadata": {},
   "outputs": [],
   "source": [
    "scaler = StandardScaler()\n",
    "X_scaled = scaler.fit_transform(X)\n",
    "\n",
    "X_train, X_test, y_train, y_test = train_test_split(X, y, test_size=0.2, random_state=42, stratify=y)"
   ]
  },
  {
   "cell_type": "code",
   "execution_count": 17,
   "metadata": {},
   "outputs": [],
   "source": [
    "pipeline = Pipeline([\n",
    "    (\"scaler\", StandardScaler()),  \n",
    "    (\"logreg\", LogisticRegression(random_state=42, max_iter=500))\n",
    "])\n",
    "\n",
    "param_grid = {\n",
    "    \"logreg__C\": [0.01, 0.1, 1, 10, 100], \n",
    "    \"logreg__solver\": [\"liblinear\", \"saga\"]\n",
    "}"
   ]
  },
  {
   "cell_type": "code",
   "execution_count": 18,
   "metadata": {},
   "outputs": [],
   "source": [
    "cv = StratifiedKFold(n_splits=10, shuffle=True, random_state=42)\n",
    "\n",
    "grid_search = GridSearchCV(\n",
    "    estimator=pipeline,\n",
    "    param_grid=param_grid,\n",
    "    scoring=make_scorer(f1_score, average=\"weighted\"),\n",
    "    cv=cv,\n",
    "    n_jobs=-1\n",
    ")"
   ]
  },
  {
   "cell_type": "code",
   "execution_count": 19,
   "metadata": {},
   "outputs": [
    {
     "data": {
      "text/plain": [
       "<Experiment: artifact_location='mlflow-artifacts:/7713aff20f354756937c9832eadb8167', creation_time=1734199833731, experiment_id='1', last_update_time=1734199833731, lifecycle_stage='active', name='Logistic Regression Experiment', tags={}>"
      ]
     },
     "execution_count": 19,
     "metadata": {},
     "output_type": "execute_result"
    }
   ],
   "source": [
    "mlflow.set_experiment(\"Logistic Regression Experiment\")"
   ]
  },
  {
   "cell_type": "code",
   "execution_count": 20,
   "metadata": {},
   "outputs": [
    {
     "name": "stderr",
     "output_type": "stream",
     "text": [
      "d:\\Main_Python\\.venv\\Lib\\site-packages\\sklearn\\model_selection\\_search.py:1107: UserWarning: One or more of the test scores are non-finite: [nan nan nan nan nan nan nan nan nan nan]\n",
      "  warnings.warn(\n",
      "d:\\Main_Python\\.venv\\Lib\\site-packages\\sklearn\\metrics\\_classification.py:1565: UndefinedMetricWarning: Precision is ill-defined and being set to 0.0 in labels with no predicted samples. Use `zero_division` parameter to control this behavior.\n",
      "  _warn_prf(average, modifier, f\"{metric.capitalize()} is\", len(result))\n",
      "d:\\Main_Python\\.venv\\Lib\\site-packages\\sklearn\\metrics\\_classification.py:1565: UndefinedMetricWarning: Precision is ill-defined and being set to 0.0 in labels with no predicted samples. Use `zero_division` parameter to control this behavior.\n",
      "  _warn_prf(average, modifier, f\"{metric.capitalize()} is\", len(result))\n",
      "d:\\Main_Python\\.venv\\Lib\\site-packages\\sklearn\\metrics\\_classification.py:1565: UndefinedMetricWarning: Precision is ill-defined and being set to 0.0 in labels with no predicted samples. Use `zero_division` parameter to control this behavior.\n",
      "  _warn_prf(average, modifier, f\"{metric.capitalize()} is\", len(result))\n",
      "2024/12/16 22:28:52 WARNING mlflow.models.model: Model logged without a signature and input example. Please set `input_example` parameter when logging the model to auto infer the model signature.\n"
     ]
    },
    {
     "name": "stdout",
     "output_type": "stream",
     "text": [
      "Experiment logged in MLFlow.\n",
      "🏃 View run Experiment#1 at: https://dagshub.com/shahadeven/503_Project.mlflow/#/experiments/1/runs/d9a8f970bfda4ad7ae1594b194f3b75c\n",
      "🧪 View experiment at: https://dagshub.com/shahadeven/503_Project.mlflow/#/experiments/1\n"
     ]
    }
   ],
   "source": [
    "with mlflow.start_run(run_name=\"Experiment#1\"):\n",
    "    grid_search.fit(X_train, y_train)\n",
    "\n",
    "    mlflow.log_params(grid_search.best_params_)\n",
    "    mlflow.log_metric(\"Best CV F1-Score\", grid_search.best_score_)\n",
    "\n",
    "    y_pred = grid_search.best_estimator_.predict(X_test)\n",
    "    test_f1 = f1_score(y_test, y_pred, average=\"weighted\")\n",
    "\n",
    "    cm = confusion_matrix(y_test, y_pred)\n",
    "\n",
    "    mlflow.log_dict({\"Confusion Matrix\": cm.tolist()}, \"confusion_matrix.json\")\n",
    "\n",
    "    classification_metrics = classification_report(y_test, y_pred, output_dict=True)\n",
    "    mlflow.log_dict(classification_metrics, \"classification_report.json\")\n",
    "\n",
    "    mlflow.log_metric(\"Test F1-Score\", test_f1)\n",
    "\n",
    "    mlflow.sklearn.log_model(grid_search.best_estimator_, \"model\")\n",
    "\n",
    "    print(\"Experiment logged in MLFlow.\")"
   ]
  },
  {
   "cell_type": "markdown",
   "metadata": {},
   "source": [
    "# Experiment 2"
   ]
  },
  {
   "cell_type": "code",
   "execution_count": 36,
   "metadata": {},
   "outputs": [],
   "source": [
    "classifiers = {\n",
    "    \"Logistic Regression\": LogisticRegression(max_iter=1000, random_state=42),\n",
    "    \"Ridge Classifier\": RidgeClassifier(),\n",
    "    \"Random Forest\": RandomForestClassifier(random_state=42),\n",
    "}"
   ]
  },
  {
   "cell_type": "code",
   "execution_count": 37,
   "metadata": {},
   "outputs": [],
   "source": [
    "cv = StratifiedKFold(n_splits=10, shuffle=True, random_state=42)"
   ]
  },
  {
   "cell_type": "code",
   "execution_count": 38,
   "metadata": {},
   "outputs": [
    {
     "data": {
      "text/plain": [
       "<Experiment: artifact_location='mlflow-artifacts:/2d3733742ef4465eb78270ccd9692b6d', creation_time=1734219042881, experiment_id='2', last_update_time=1734219042881, lifecycle_stage='active', name='Experiment #2: Multiple Classifiers', tags={}>"
      ]
     },
     "execution_count": 38,
     "metadata": {},
     "output_type": "execute_result"
    }
   ],
   "source": [
    "mlflow.set_experiment(\"Experiment #2: Multiple Classifiers\")"
   ]
  },
  {
   "cell_type": "code",
   "execution_count": 14,
   "metadata": {},
   "outputs": [],
   "source": [
    "label_encoder = LabelEncoder()\n",
    "y_encoded = label_encoder.fit_transform(y)"
   ]
  },
  {
   "cell_type": "code",
   "execution_count": 19,
   "metadata": {},
   "outputs": [
    {
     "name": "stdout",
     "output_type": "stream",
     "text": [
      "Encoded value 0 -> Class 'Calm'\n",
      "Encoded value 1 -> Class 'Energetic'\n",
      "Encoded value 2 -> Class 'Happy'\n",
      "Encoded value 3 -> Class 'Instrumental'\n",
      "Encoded value 4 -> Class 'Live'\n",
      "Encoded value 5 -> Class 'Neutral'\n",
      "Encoded value 6 -> Class 'Sad'\n"
     ]
    }
   ],
   "source": [
    "for index, class_name in enumerate(label_encoder.classes_):\n",
    "    print(f\"Encoded value {index} -> Class '{class_name}'\")"
   ]
  },
  {
   "cell_type": "code",
   "execution_count": 15,
   "metadata": {},
   "outputs": [],
   "source": [
    "X_train, X_test, y_train, y_test = train_test_split(X, y_encoded, test_size=0.2, random_state=42, stratify=y_encoded)"
   ]
  },
  {
   "cell_type": "code",
   "execution_count": 41,
   "metadata": {},
   "outputs": [
    {
     "name": "stdout",
     "output_type": "stream",
     "text": [
      "Running Logistic Regression...\n"
     ]
    },
    {
     "name": "stderr",
     "output_type": "stream",
     "text": [
      "2024/12/16 22:45:29 WARNING mlflow.models.model: Model logged without a signature and input example. Please set `input_example` parameter when logging the model to auto infer the model signature.\n"
     ]
    },
    {
     "name": "stdout",
     "output_type": "stream",
     "text": [
      "Logistic Regression logged in MLFlow.\n",
      "🏃 View run Logistic Regression Run at: https://dagshub.com/shahadeven/503_Project.mlflow/#/experiments/2/runs/dc3cefdbcf274f0ea8c057aa3ab12c47\n",
      "🧪 View experiment at: https://dagshub.com/shahadeven/503_Project.mlflow/#/experiments/2\n",
      "Running Ridge Classifier...\n"
     ]
    },
    {
     "name": "stderr",
     "output_type": "stream",
     "text": [
      "2024/12/16 22:45:48 WARNING mlflow.models.model: Model logged without a signature and input example. Please set `input_example` parameter when logging the model to auto infer the model signature.\n"
     ]
    },
    {
     "name": "stdout",
     "output_type": "stream",
     "text": [
      "Ridge Classifier logged in MLFlow.\n",
      "🏃 View run Ridge Classifier Run at: https://dagshub.com/shahadeven/503_Project.mlflow/#/experiments/2/runs/1d3151dd72104fc592fe4bf08e710874\n",
      "🧪 View experiment at: https://dagshub.com/shahadeven/503_Project.mlflow/#/experiments/2\n",
      "Running Random Forest...\n"
     ]
    },
    {
     "name": "stderr",
     "output_type": "stream",
     "text": [
      "2024/12/16 22:46:08 WARNING mlflow.models.model: Model logged without a signature and input example. Please set `input_example` parameter when logging the model to auto infer the model signature.\n"
     ]
    },
    {
     "name": "stdout",
     "output_type": "stream",
     "text": [
      "Random Forest logged in MLFlow.\n",
      "🏃 View run Random Forest Run at: https://dagshub.com/shahadeven/503_Project.mlflow/#/experiments/2/runs/709f3c809b5f4b65aa535205e160def5\n",
      "🧪 View experiment at: https://dagshub.com/shahadeven/503_Project.mlflow/#/experiments/2\n"
     ]
    }
   ],
   "source": [
    "for clf_name, clf in classifiers.items():\n",
    "    with mlflow.start_run(run_name=f\"{clf_name} Run\"):\n",
    "        print(f\"Running {clf_name}...\")\n",
    "\n",
    "        pipeline = Pipeline(steps=[\n",
    "            (\"scaler\", StandardScaler()),\n",
    "            (\"classifier\", clf)\n",
    "        ])\n",
    "\n",
    "        cv_scores = cross_val_score(pipeline, X_train, y_train, cv=cv, scoring=make_scorer(f1_score, average=\"weighted\"))\n",
    "        mean_cv_score = np.mean(cv_scores)\n",
    "        std_cv_score = np.std(cv_scores)\n",
    "\n",
    "        pipeline.fit(X_train, y_train)\n",
    "\n",
    "        y_pred = pipeline.predict(X_test)\n",
    "\n",
    "        test_f1 = f1_score(y_test, y_pred, average=\"weighted\")\n",
    "        cm = confusion_matrix(y_test, y_pred)\n",
    "\n",
    "        if len(np.unique(y_test)) > 2:\n",
    "            classwise_cm = multilabel_confusion_matrix(y_test, y_pred)\n",
    "\n",
    "            tp = np.sum(classwise_cm[:, 1, 1])  \n",
    "            fn = np.sum(classwise_cm[:, 1, 0]) \n",
    "            fp = np.sum(classwise_cm[:, 0, 1]) \n",
    "            tn = np.sum(classwise_cm[:, 0, 0])  \n",
    "        else:\n",
    "            tn, fp, fn, tp = cm.ravel()\n",
    "\n",
    "        test_mae = mean_absolute_error(y_test, y_pred)\n",
    "        test_r2 = r2_score(y_test, y_pred)\n",
    "\n",
    "        mlflow.log_metric(\"Test F1-Score\", test_f1)\n",
    "        mlflow.log_metric(\"Mean CV F1-Score\", mean_cv_score)\n",
    "        mlflow.log_metric(\"Std CV F1-Score\", std_cv_score)\n",
    "        mlflow.log_metric(\"True Positives\", tp)\n",
    "        mlflow.log_metric(\"True Negatives\", tn)\n",
    "        mlflow.log_metric(\"False Positives\", fp)\n",
    "        mlflow.log_metric(\"False Negatives\", fn)\n",
    "        mlflow.log_metric(\"Test MAE\", test_mae)\n",
    "        mlflow.log_metric(\"Test R² Score\", test_r2)\n",
    "\n",
    "        mlflow.log_dict({\"Confusion Matrix\": cm.tolist()}, \"confusion_matrix.json\")\n",
    "\n",
    "        mlflow.sklearn.log_model(pipeline, \"model\")\n",
    "\n",
    "        print(f\"{clf_name} logged in MLFlow.\")"
   ]
  },
  {
   "cell_type": "markdown",
   "metadata": {},
   "source": [
    "# Experiment 3"
   ]
  },
  {
   "cell_type": "code",
   "execution_count": 42,
   "metadata": {},
   "outputs": [
    {
     "data": {
      "text/plain": [
       "<Experiment: artifact_location='mlflow-artifacts:/598d40f523074dceb2efda4f7acb5eb7', creation_time=1734238425337, experiment_id='3', last_update_time=1734238425337, lifecycle_stage='active', name='Experiment #3: Feature Engineering', tags={}>"
      ]
     },
     "execution_count": 42,
     "metadata": {},
     "output_type": "execute_result"
    }
   ],
   "source": [
    "mlflow.set_experiment(\"Experiment #3: Feature Engineering\")"
   ]
  },
  {
   "cell_type": "code",
   "execution_count": 43,
   "metadata": {},
   "outputs": [],
   "source": [
    "def feature_engineering(X):\n",
    "    X = X.copy() \n",
    "    X[\"danceability_energy\"] = X[\"danceability\"] * X[\"energy\"]\n",
    "    X[\"tempo_valence\"] = X[\"tempo\"] * X[\"valence\"]\n",
    "\n",
    "    X[\"mean_features\"] = X[[\"danceability\", \"energy\", \"valence\", \"liveness\"]].mean(axis=1)\n",
    "    X[\"max_features\"] = X[[\"danceability\", \"energy\", \"valence\", \"liveness\"]].max(axis=1)\n",
    "\n",
    "    X[\"normalized_loudness_squared\"] = X[\"normalized_loudness\"] ** 2\n",
    "    return X"
   ]
  },
  {
   "cell_type": "code",
   "execution_count": 46,
   "metadata": {},
   "outputs": [],
   "source": [
    "feature_engineering = FunctionTransformer(feature_engineering)\n",
    "X_train = feature_engineering.fit_transform(X_train)\n",
    "X_test = feature_engineering.transform(X_test)\n",
    "\n",
    "pipeline = Pipeline(steps=[\n",
    "    (\"scaler\", StandardScaler()),\n",
    "    (\"classifier\" ,RandomForestClassifier(random_state=42, class_weight='balanced', n_jobs=-1, n_estimators=100))\n",
    "])\n",
    "\n",
    "cv = StratifiedKFold(n_splits=10, shuffle=True, random_state=42)"
   ]
  },
  {
   "cell_type": "code",
   "execution_count": 47,
   "metadata": {},
   "outputs": [
    {
     "name": "stderr",
     "output_type": "stream",
     "text": [
      "2024/12/16 22:49:15 WARNING mlflow.models.model: Model logged without a signature and input example. Please set `input_example` parameter when logging the model to auto infer the model signature.\n"
     ]
    },
    {
     "name": "stdout",
     "output_type": "stream",
     "text": [
      "Experiment logged in MLFlow with XGBoost.\n",
      "🏃 View run RandomForest Classifier Feature Engineering Experiment at: https://dagshub.com/shahadeven/503_Project.mlflow/#/experiments/3/runs/428942cb63aa42f792f1d5e6fc935e73\n",
      "🧪 View experiment at: https://dagshub.com/shahadeven/503_Project.mlflow/#/experiments/3\n",
      "Feature engineering complete. Results logged in MLFlow.\n"
     ]
    }
   ],
   "source": [
    "with mlflow.start_run(run_name=\"RandomForest Classifier Feature Engineering Experiment\"):\n",
    "    cv_scores = cross_val_score(pipeline, X_train, y_train, cv=cv, scoring=make_scorer(f1_score, average=\"weighted\"))\n",
    "    mean_cv_score = np.mean(cv_scores)\n",
    "    std_cv_score = np.std(cv_scores)\n",
    "\n",
    "    mlflow.log_metric(\"Mean CV F1-Score\", mean_cv_score)\n",
    "    mlflow.log_metric(\"Std CV F1-Score\", std_cv_score)\n",
    "\n",
    "    pipeline.fit(X_train, y_train)\n",
    "    y_pred = pipeline.predict(X_test)\n",
    "    \n",
    "    test_f1 = f1_score(y_test, y_pred, average=\"weighted\")\n",
    "    cm = confusion_matrix(y_test, y_pred)\n",
    "    mlflow.log_metric(\"Test F1-Score\", test_f1)\n",
    "\n",
    "    if len(np.unique(y_test)) > 2:  \n",
    "        tp = np.diag(cm).sum()  \n",
    "        fn = cm.sum(axis=1) - np.diag(cm)  \n",
    "        fp = cm.sum(axis=0) - np.diag(cm)  \n",
    "        tn = cm.sum() - (tp + fp.sum() + fn.sum())  \n",
    "\n",
    "        fp = fp.sum()\n",
    "        fn = fn.sum()\n",
    "    else: \n",
    "        tn, fp, fn, tp = cm.ravel()\n",
    "\n",
    "    mlflow.log_metric(\"True Positives\", tp)\n",
    "    mlflow.log_metric(\"True Negatives\", tn)\n",
    "    mlflow.log_metric(\"False Positives\", fp)\n",
    "    mlflow.log_metric(\"False Negatives\", fn)\n",
    "    mlflow.log_dict({\"Confusion Matrix\": cm.tolist()}, \"confusion_matrix.json\")\n",
    "\n",
    "    mlflow.sklearn.log_model(pipeline, \"model\")\n",
    "    print(\"Experiment logged in MLFlow with XGBoost.\")\n",
    "\n",
    "print(\"Feature engineering complete. Results logged in MLFlow.\")"
   ]
  },
  {
   "cell_type": "markdown",
   "metadata": {},
   "source": [
    "# Experiment 4"
   ]
  },
  {
   "cell_type": "code",
   "execution_count": 48,
   "metadata": {},
   "outputs": [
    {
     "data": {
      "text/plain": [
       "<Experiment: artifact_location='mlflow-artifacts:/41bd9cd7b01c420baf3415c62db9f707', creation_time=1734281497810, experiment_id='4', last_update_time=1734281497810, lifecycle_stage='active', name='Experiment #4: Feature Selection', tags={}>"
      ]
     },
     "execution_count": 48,
     "metadata": {},
     "output_type": "execute_result"
    }
   ],
   "source": [
    "mlflow.set_experiment(\"Experiment #4: Feature Selection\")"
   ]
  },
  {
   "cell_type": "code",
   "execution_count": 49,
   "metadata": {},
   "outputs": [],
   "source": [
    "def select_by_correlation(X, threshold=0.8):\n",
    "    correlation_matrix = X.corr().abs()\n",
    "    upper_triangle = correlation_matrix.where(\n",
    "        np.triu(np.ones(correlation_matrix.shape), k=1).astype(bool)\n",
    "    )\n",
    "    to_drop = [\n",
    "        column for column in upper_triangle.columns if any(upper_triangle[column] > threshold)\n",
    "    ]\n",
    "    return X.drop(columns=to_drop), to_drop\n",
    "\n",
    "def select_by_variance(X, threshold=0.01):\n",
    "    selector = VarianceThreshold(threshold=threshold)\n",
    "    X_var = selector.fit_transform(X)\n",
    "    selected_features = X.columns[selector.get_support()]\n",
    "    dropped_features = X.columns[~selector.get_support()]\n",
    "    return pd.DataFrame(X_var, columns=selected_features), list(dropped_features)\n",
    "\n",
    "def select_by_importance(X, y_encoded, threshold=\"median\"):\n",
    "    model = RandomForestClassifier(random_state=42, class_weight='balanced', n_jobs=-1, n_estimators=100)\n",
    "    model.fit(X, y_encoded)\n",
    "    selector = SelectFromModel(model, threshold=threshold, prefit=True)\n",
    "    X_imp = selector.transform(X)\n",
    "    selected_features = X.columns[selector.get_support()]\n",
    "    dropped_features = X.columns[~selector.get_support()]\n",
    "    return pd.DataFrame(X_imp, columns=selected_features), list(dropped_features)"
   ]
  },
  {
   "cell_type": "code",
   "execution_count": 50,
   "metadata": {},
   "outputs": [
    {
     "name": "stdout",
     "output_type": "stream",
     "text": [
      "Starting feature selection experiment...\n"
     ]
    },
    {
     "name": "stderr",
     "output_type": "stream",
     "text": [
      "d:\\Main_Python\\.venv\\Lib\\site-packages\\sklearn\\utils\\validation.py:2732: UserWarning: X has feature names, but SelectFromModel was fitted without feature names\n",
      "  warnings.warn(\n",
      "2024/12/16 22:50:28 WARNING mlflow.models.model: Model logged without a signature and input example. Please set `input_example` parameter when logging the model to auto infer the model signature.\n"
     ]
    },
    {
     "name": "stdout",
     "output_type": "stream",
     "text": [
      "Feature selection completed and logged in MLflow.\n",
      "🏃 View run Feature_Selection_Experiment at: https://dagshub.com/shahadeven/503_Project.mlflow/#/experiments/4/runs/b710a81e9b8948f09c1a97ce50fbd91f\n",
      "🧪 View experiment at: https://dagshub.com/shahadeven/503_Project.mlflow/#/experiments/4\n"
     ]
    }
   ],
   "source": [
    "with mlflow.start_run(run_name=\"Feature_Selection_Experiment\"):\n",
    "    print(\"Starting feature selection experiment...\")\n",
    "\n",
    "    initial_features = X.columns.tolist()\n",
    "\n",
    "    X_corr, dropped_corr = select_by_correlation(X)\n",
    "    mlflow.log_param(f\"Dropped_Correlation_Threshold_0.8\", dropped_corr)\n",
    "\n",
    "    X_var, dropped_var = select_by_variance(X_corr)\n",
    "    mlflow.log_param(f\"Dropped_Variance_Threshold_0.01\", dropped_var)\n",
    "\n",
    "    X_imp, dropped_imp = select_by_importance(X_var, y_encoded)\n",
    "    mlflow.log_param(f\"Dropped_Importance_Threshold_median\", dropped_imp)\n",
    "\n",
    "    final_features = X_imp.columns.tolist()\n",
    "    mlflow.log_param(\"Final_Selected_Features\", final_features)\n",
    "\n",
    "    pipeline = Pipeline(steps=[\n",
    "        (\"classifier\", XGBClassifier(eval_metric=\"mlogloss\", random_state=42))\n",
    "    ])\n",
    "    pipeline.fit(X_imp, y_encoded)\n",
    "\n",
    "    mlflow.sklearn.log_model(pipeline, \"model\")\n",
    "\n",
    "    print(\"Feature selection completed and logged in MLflow.\")"
   ]
  },
  {
   "cell_type": "markdown",
   "metadata": {},
   "source": [
    "# Expermient 5"
   ]
  },
  {
   "cell_type": "code",
   "execution_count": 51,
   "metadata": {},
   "outputs": [
    {
     "data": {
      "text/plain": [
       "<Experiment: artifact_location='mlflow-artifacts:/67e9dfb354424a9d92daff14ca78a319', creation_time=1734283584232, experiment_id='5', last_update_time=1734283584232, lifecycle_stage='active', name='Experiment #5: PCA Dimensionality Reduction', tags={}>"
      ]
     },
     "execution_count": 51,
     "metadata": {},
     "output_type": "execute_result"
    }
   ],
   "source": [
    "mlflow.set_experiment(\"Experiment #5: PCA Dimensionality Reduction\")"
   ]
  },
  {
   "cell_type": "code",
   "execution_count": 54,
   "metadata": {},
   "outputs": [],
   "source": [
    "# #final features extracted from the above step\n",
    "# final_selected_features = ['danceability', 'energy', 'tempo', 'valence', 'instrumentalness', 'liveness']\n",
    "\n",
    "# X_selected = X[final_selected_features]"
   ]
  },
  {
   "cell_type": "code",
   "execution_count": 56,
   "metadata": {},
   "outputs": [],
   "source": [
    "scaler = StandardScaler()\n",
    "X_scaled = scaler.fit_transform(X)"
   ]
  },
  {
   "cell_type": "code",
   "execution_count": 57,
   "metadata": {},
   "outputs": [],
   "source": [
    "pca = PCA()\n",
    "X_pca = pca.fit_transform(X_scaled)\n",
    "\n",
    "explained_variance = pca.explained_variance_ratio_\n",
    "\n",
    "plt.figure(figsize=(10, 6))\n",
    "plt.plot(range(1, len(explained_variance) + 1), explained_variance, marker='o', linestyle='--')\n",
    "plt.title('Scree Plot - Explained Variance by Each Component')\n",
    "plt.xlabel('Principal Components')\n",
    "plt.ylabel('Explained Variance Ratio')\n",
    "plt.xticks(range(1, len(explained_variance) + 1))\n",
    "plt.grid(True)\n",
    "scree_plot_path = \"D:\\\\Main_Python\\\\UB_ESDS\\\\EAS503\\\\scree_plot.png\"\n",
    "plt.savefig(scree_plot_path)\n",
    "plt.close()"
   ]
  },
  {
   "cell_type": "code",
   "execution_count": 58,
   "metadata": {},
   "outputs": [],
   "source": [
    "cumulative_variance = np.cumsum(explained_variance)\n",
    "n_components = np.argmax(cumulative_variance >= 0.95) + 1\n",
    "X_pca_selected = X_pca[:, :n_components]"
   ]
  },
  {
   "cell_type": "code",
   "execution_count": 73,
   "metadata": {},
   "outputs": [
    {
     "data": {
      "text/plain": [
       "['D:\\\\Main_Python\\\\UB_ESDS\\\\EAS503\\\\pca_model.pkl']"
      ]
     },
     "execution_count": 73,
     "metadata": {},
     "output_type": "execute_result"
    }
   ],
   "source": [
    "joblib.dump(pca, \"D:\\\\Main_Python\\\\UB_ESDS\\\\EAS503\\\\pca_model.pkl\")"
   ]
  },
  {
   "cell_type": "code",
   "execution_count": 59,
   "metadata": {},
   "outputs": [
    {
     "data": {
      "text/plain": [
       "(9974, 6)"
      ]
     },
     "execution_count": 59,
     "metadata": {},
     "output_type": "execute_result"
    }
   ],
   "source": [
    "X_pca_selected.shape"
   ]
  },
  {
   "cell_type": "code",
   "execution_count": 62,
   "metadata": {},
   "outputs": [],
   "source": [
    "X_train, X_test, y_train, y_test = train_test_split(X_pca_selected, y_encoded, test_size=0.2, random_state=42)\n",
    "\n",
    "model = RandomForestClassifier(random_state=42, class_weight='balanced', n_jobs=-1, n_estimators=100)\n",
    "pipeline = Pipeline(steps=[(\"classifier\", model)])"
   ]
  },
  {
   "cell_type": "code",
   "execution_count": 63,
   "metadata": {},
   "outputs": [
    {
     "name": "stdout",
     "output_type": "stream",
     "text": [
      "Starting PCA and classification experiment...\n"
     ]
    },
    {
     "name": "stderr",
     "output_type": "stream",
     "text": [
      "2024/12/16 22:53:38 WARNING mlflow.models.model: Model logged without a signature and input example. Please set `input_example` parameter when logging the model to auto infer the model signature.\n"
     ]
    },
    {
     "name": "stdout",
     "output_type": "stream",
     "text": [
      "PCA dimensionality reduction and classification experiment completed and logged in MLFlow.\n",
      "🏃 View run PCA Dimensionality Reduction Experiment at: https://dagshub.com/shahadeven/503_Project.mlflow/#/experiments/5/runs/81fa2d4c8fee4fa6bbd7c771e406f7d5\n",
      "🧪 View experiment at: https://dagshub.com/shahadeven/503_Project.mlflow/#/experiments/5\n"
     ]
    }
   ],
   "source": [
    "with mlflow.start_run(run_name=\"PCA Dimensionality Reduction Experiment\"):\n",
    "    print(\"Starting PCA and classification experiment...\")\n",
    "\n",
    "    mlflow.log_param(\"Number of Components\", n_components)\n",
    "\n",
    "    for i, variance in enumerate(explained_variance):\n",
    "        mlflow.log_param(f\"Explained Variance - PC{i+1}\", variance)\n",
    "    \n",
    "    mlflow.log_artifact(scree_plot_path)\n",
    "\n",
    "    pipeline.fit(X_train, y_train)\n",
    "\n",
    "    accuracy = pipeline.score(X_test, y_test)\n",
    "    mlflow.log_metric(\"Accuracy\", accuracy)\n",
    "\n",
    "    mae = mean_absolute_error(y_test, y_pred)\n",
    "    mlflow.log_metric(\"MAE\", mae)\n",
    "\n",
    "    mlflow.sklearn.log_model(pipeline, \"model\")\n",
    "\n",
    "    print(\"PCA dimensionality reduction and classification experiment completed and logged in MLFlow.\")"
   ]
  },
  {
   "cell_type": "markdown",
   "metadata": {},
   "source": [
    "# Experiment 6"
   ]
  },
  {
   "cell_type": "code",
   "execution_count": 64,
   "metadata": {},
   "outputs": [
    {
     "data": {
      "text/plain": [
       "<Experiment: artifact_location='mlflow-artifacts:/1053afc33af047a38ab2f2d5b0d980d8', creation_time=1734379520158, experiment_id='7', last_update_time=1734379520158, lifecycle_stage='active', name='Experiment #6: Stacking Classifier', tags={}>"
      ]
     },
     "execution_count": 64,
     "metadata": {},
     "output_type": "execute_result"
    }
   ],
   "source": [
    "mlflow.set_experiment(\"Experiment #6: Stacking Classifier\")"
   ]
  },
  {
   "cell_type": "code",
   "execution_count": 65,
   "metadata": {},
   "outputs": [],
   "source": [
    "base_learners = [\n",
    "    ('rf', RidgeClassifier(alpha=1.0,class_weight='balanced',random_state=42)),\n",
    "    ('gb', GradientBoostingClassifier(random_state=42)),\n",
    "    ('svm', SVC(probability=True, random_state=42))\n",
    "]\n",
    "\n",
    "stacking_clf = StackingClassifier(\n",
    "    estimators=base_learners,\n",
    "    final_estimator=LogisticRegression(random_state=42),\n",
    "    cv=3\n",
    ")"
   ]
  },
  {
   "cell_type": "code",
   "execution_count": 66,
   "metadata": {},
   "outputs": [
    {
     "name": "stderr",
     "output_type": "stream",
     "text": [
      "2024/12/16 23:04:10 WARNING mlflow.models.model: Model logged without a signature and input example. Please set `input_example` parameter when logging the model to auto infer the model signature.\n"
     ]
    },
    {
     "name": "stdout",
     "output_type": "stream",
     "text": [
      "🏃 View run Stacking Classifier at: https://dagshub.com/shahadeven/503_Project.mlflow/#/experiments/7/runs/65a62d631e78429a8e8385a8631629b6\n",
      "🧪 View experiment at: https://dagshub.com/shahadeven/503_Project.mlflow/#/experiments/7\n"
     ]
    }
   ],
   "source": [
    "with mlflow.start_run(run_name=\"Stacking Classifier\"):\n",
    "    # Fit the stacking classifier\n",
    "    stacking_clf.fit(X_train, y_train)\n",
    "    y_pred = stacking_clf.predict(X_test)\n",
    "    \n",
    "    # Log F1-score\n",
    "    f1 = f1_score(y_test, y_pred, average='weighted')\n",
    "    mlflow.log_metric(\"F1 Score\", f1)\n",
    "\n",
    "    class_report = classification_report(y_test, y_pred)\n",
    "    report_path = \"classification_report.txt\"\n",
    "    with open(report_path, \"w\") as f:\n",
    "        f.write(class_report)\n",
    "    mlflow.log_artifact(report_path)\n",
    "\n",
    "    cm = confusion_matrix(y_test, y_pred)\n",
    "    cm_plot_path = \"confusion_matrix.png\"\n",
    "    plt.figure(figsize=(8, 6))\n",
    "    sns.heatmap(cm, annot=True, fmt=\"d\", cmap=\"Blues\", xticklabels=np.unique(y_test), yticklabels=np.unique(y_test))\n",
    "    plt.xlabel(\"Predicted Labels\")\n",
    "    plt.ylabel(\"True Labels\")\n",
    "    plt.title(\"Confusion Matrix\")\n",
    "    plt.savefig(cm_plot_path)\n",
    "    plt.close()\n",
    "    mlflow.log_artifact(cm_plot_path)\n",
    "\n",
    "    if len(np.unique(y_test)) > 2:  \n",
    "        tp = np.diag(cm).sum()\n",
    "        fn = cm.sum(axis=1) - np.diag(cm)\n",
    "        fp = cm.sum(axis=0) - np.diag(cm)\n",
    "        tn = cm.sum() - (tp + fp.sum() + fn.sum())\n",
    "\n",
    "        fp = fp.sum()\n",
    "        fn = fn.sum()\n",
    "    else:  \n",
    "        tn, fp, fn, tp = cm.ravel()\n",
    "\n",
    "    mlflow.log_metric(\"True Positives\", tp)\n",
    "    mlflow.log_metric(\"False Positives\", fp)\n",
    "    mlflow.log_metric(\"False Negatives\", fn)\n",
    "    mlflow.log_metric(\"True Negatives\", tn)\n",
    "\n",
    "    mlflow.sklearn.log_model(stacking_clf, \"stacking_model\")"
   ]
  },
  {
   "cell_type": "markdown",
   "metadata": {},
   "source": [
    "# Experiment 7"
   ]
  },
  {
   "cell_type": "code",
   "execution_count": 18,
   "metadata": {},
   "outputs": [
    {
     "name": "stderr",
     "output_type": "stream",
     "text": [
      "2024/12/18 15:44:17 INFO mlflow.tracking.fluent: Experiment with name 'Experiment #7: Smote Analysis' does not exist. Creating a new experiment.\n"
     ]
    },
    {
     "data": {
      "text/plain": [
       "<Experiment: artifact_location='mlflow-artifacts:/127899f2737c40efb24615306072052c', creation_time=1734554655768, experiment_id='9', last_update_time=1734554655768, lifecycle_stage='active', name='Experiment #7: Smote Analysis', tags={}>"
      ]
     },
     "execution_count": 18,
     "metadata": {},
     "output_type": "execute_result"
    }
   ],
   "source": [
    "mlflow.set_experiment(\"Experiment #7: Smote Analysis\")"
   ]
  },
  {
   "cell_type": "code",
   "execution_count": 19,
   "metadata": {},
   "outputs": [],
   "source": [
    "X = data[[\"danceability\", \"energy\", \"normalized_loudness\", \"tempo\", \"valence\", \"instrumentalness\", \"liveness\"]]\n",
    "y = data[\"mood\"]\n",
    "\n",
    "X_train, X_test, y_train, y_test = train_test_split(X, y, test_size=0.3, random_state=42)"
   ]
  },
  {
   "cell_type": "code",
   "execution_count": 20,
   "metadata": {},
   "outputs": [
    {
     "name": "stdout",
     "output_type": "stream",
     "text": [
      "Accuracy: 0.9953224189776144\n",
      "Classification Report:\n",
      "               precision    recall  f1-score   support\n",
      "\n",
      "        Calm       1.00      1.00      1.00       307\n",
      "   Energetic       1.00      0.97      0.98       285\n",
      "       Happy       1.00      1.00      1.00       478\n",
      "Instrumental       0.99      1.00      1.00       775\n",
      "        Live       0.97      0.93      0.95        30\n",
      "     Neutral       0.99      1.00      1.00      1106\n",
      "         Sad       1.00      1.00      1.00        12\n",
      "\n",
      "    accuracy                           1.00      2993\n",
      "   macro avg       0.99      0.99      0.99      2993\n",
      "weighted avg       1.00      1.00      1.00      2993\n",
      "\n"
     ]
    },
    {
     "data": {
      "image/png": "[encoded data removed]",
      "text/plain": [
       "<Figure size 1000x500 with 2 Axes>"
      ]
     },
     "metadata": {},
     "output_type": "display_data"
    }
   ],
   "source": [
    "smote = SMOTE(sampling_strategy='auto', random_state=42)\n",
    "\n",
    "X_train_res, y_train_res = smote.fit_resample(X_train, y_train)\n",
    "model = RandomForestClassifier(n_estimators=100, random_state=42)\n",
    "\n",
    "model.fit(X_train_res, y_train_res)\n",
    "\n",
    "y_pred = model.predict(X_test)\n",
    "\n",
    "accuracy = accuracy_score(y_test, y_pred)\n",
    "report = classification_report(y_test, y_pred)\n",
    "\n",
    "print(\"Accuracy:\", accuracy)\n",
    "print(\"Classification Report:\\n\", report)\n",
    "\n",
    "plt.figure(figsize=(10, 5))\n",
    "plt.subplot(1, 2, 1)\n",
    "y.value_counts().plot(kind=\"bar\", title=\"Class Distribution Before SMOTE\")\n",
    "plt.xlabel(\"Class\")\n",
    "plt.ylabel(\"Count\")\n",
    "\n",
    "plt.subplot(1, 2, 2)\n",
    "y_train_res.value_counts().plot(kind=\"bar\", title=\"Class Distribution After SMOTE\")\n",
    "plt.xlabel(\"Class\")\n",
    "plt.ylabel(\"Count\")\n",
    "\n",
    "plt.tight_layout()\n",
    "\n",
    "plt.savefig(\"class_distribution.png\")"
   ]
  },
  {
   "cell_type": "code",
   "execution_count": 22,
   "metadata": {},
   "outputs": [
    {
     "name": "stderr",
     "output_type": "stream",
     "text": [
      "2024/12/18 15:49:30 WARNING mlflow.models.model: Model logged without a signature and input example. Please set `input_example` parameter when logging the model to auto infer the model signature.\n"
     ]
    },
    {
     "name": "stdout",
     "output_type": "stream",
     "text": [
      "🏃 View run RandomForestClassifier with SMOTE at: https://dagshub.com/shahadeven/503_Project.mlflow/#/experiments/9/runs/5e3036ceb0324cfe82a41ecbeccddb02\n",
      "🧪 View experiment at: https://dagshub.com/shahadeven/503_Project.mlflow/#/experiments/9\n"
     ]
    }
   ],
   "source": [
    "with mlflow.start_run(run_name=\"RandomForestClassifier with SMOTE\"):\n",
    "    mlflow.log_param(\"model\", \"RandomForestClassifier with SMOTE\")\n",
    "    mlflow.log_param(\"smote_sampling_strategy\", 'auto')\n",
    "    mlflow.log_metric(\"accuracy\", accuracy)\n",
    "\n",
    "    with open(\"classification_report.txt\", \"w\") as f:\n",
    "        f.write(report)\n",
    "    mlflow.log_artifact(\"classification_report.txt\")\n",
    "    mlflow.log_artifact(\"class_distribution.png\")\n",
    "\n",
    "    mlflow.sklearn.log_model(model, \"random_forest_model_with_smote\")"
   ]
  },
  {
   "cell_type": "markdown",
   "metadata": {},
   "source": [
    "# F1 Score Plots"
   ]
  },
  {
   "cell_type": "code",
   "execution_count": 67,
   "metadata": {},
   "outputs": [
    {
     "data": {
      "text/plain": [
       "<Experiment: artifact_location='mlflow-artifacts:/b22a23fbd9474d0abb8d7c565fec559d', creation_time=1734384290893, experiment_id='8', last_update_time=1734384290893, lifecycle_stage='active', name='F1 Score Plots', tags={}>"
      ]
     },
     "execution_count": 67,
     "metadata": {},
     "output_type": "execute_result"
    }
   ],
   "source": [
    "mlflow.set_experiment(\"F1 Score Plots\")"
   ]
  },
  {
   "cell_type": "code",
   "execution_count": 68,
   "metadata": {},
   "outputs": [],
   "source": [
    "models = {\n",
    "    \"Stacked Classifier\": stacking_clf,  \n",
    "    \"Logistic Regression\": LogisticRegression(max_iter=1000, random_state=42),  \n",
    "    \"Ridge Classifier\": RidgeClassifier(),\n",
    "    \"Random Forest\": RandomForestClassifier(random_state=42),\n",
    "    \"SVM\": SVC(probability=True, random_state=42)\n",
    "}"
   ]
  },
  {
   "cell_type": "code",
   "execution_count": 69,
   "metadata": {},
   "outputs": [],
   "source": [
    "X_train, X_test, y_train, y_test = train_test_split(X, y_encoded, test_size=0.2, random_state=42)"
   ]
  },
  {
   "cell_type": "code",
   "execution_count": 70,
   "metadata": {},
   "outputs": [
    {
     "name": "stdout",
     "output_type": "stream",
     "text": [
      "🏃 View run Stacked Classifier at: https://dagshub.com/shahadeven/503_Project.mlflow/#/experiments/8/runs/e9aadd02253b4b089f463640c17a03c9\n",
      "🧪 View experiment at: https://dagshub.com/shahadeven/503_Project.mlflow/#/experiments/8\n"
     ]
    },
    {
     "name": "stderr",
     "output_type": "stream",
     "text": [
      "d:\\Main_Python\\.venv\\Lib\\site-packages\\sklearn\\linear_model\\_logistic.py:465: ConvergenceWarning: lbfgs failed to converge (status=1):\n",
      "STOP: TOTAL NO. of ITERATIONS REACHED LIMIT.\n",
      "\n",
      "Increase the number of iterations (max_iter) or scale the data as shown in:\n",
      "    https://scikit-learn.org/stable/modules/preprocessing.html\n",
      "Please also refer to the documentation for alternative solver options:\n",
      "    https://scikit-learn.org/stable/modules/linear_model.html#logistic-regression\n",
      "  n_iter_i = _check_optimize_result(\n"
     ]
    },
    {
     "name": "stdout",
     "output_type": "stream",
     "text": [
      "🏃 View run Logistic Regression at: https://dagshub.com/shahadeven/503_Project.mlflow/#/experiments/8/runs/9bf27602143041d7882ca6aa24301694\n",
      "🧪 View experiment at: https://dagshub.com/shahadeven/503_Project.mlflow/#/experiments/8\n",
      "🏃 View run Ridge Classifier at: https://dagshub.com/shahadeven/503_Project.mlflow/#/experiments/8/runs/cadd3664a2674033a00f2e734b7edd9e\n",
      "🧪 View experiment at: https://dagshub.com/shahadeven/503_Project.mlflow/#/experiments/8\n",
      "🏃 View run Random Forest at: https://dagshub.com/shahadeven/503_Project.mlflow/#/experiments/8/runs/f492437017d942fdaecc4dd470ec2c96\n",
      "🧪 View experiment at: https://dagshub.com/shahadeven/503_Project.mlflow/#/experiments/8\n",
      "🏃 View run SVM at: https://dagshub.com/shahadeven/503_Project.mlflow/#/experiments/8/runs/60e4d6e6f9944a91a6661f534365933d\n",
      "🧪 View experiment at: https://dagshub.com/shahadeven/503_Project.mlflow/#/experiments/8\n",
      "🏃 View run F1 Score Comparison Overall at: https://dagshub.com/shahadeven/503_Project.mlflow/#/experiments/8/runs/3f5ec1f6ae744f89b6ec3a36974f2268\n",
      "🧪 View experiment at: https://dagshub.com/shahadeven/503_Project.mlflow/#/experiments/8\n"
     ]
    }
   ],
   "source": [
    "f1_scores = []\n",
    "experiment_names = list(models.keys())\n",
    "with mlflow.start_run(run_name=\"F1 Score Comparison Overall\"):\n",
    "    for experiment_name, model in models.items():\n",
    "        with mlflow.start_run(run_name=experiment_name, nested=True):\n",
    "\n",
    "            model.fit(X_train, y_train)\n",
    "            y_pred = model.predict(X_test)\n",
    "\n",
    "            f1 = f1_score(y_test, y_pred, average='weighted')\n",
    "            mlflow.log_metric(\"F1 Score\", f1)\n",
    "\n",
    "            f1_scores.append(f1)\n",
    "\n",
    "    plt.figure(figsize=(10, 6))\n",
    "    plt.bar(experiment_names, f1_scores, color='skyblue')\n",
    "    plt.xlabel(\"Experiments\")\n",
    "    plt.ylabel(\"F1-Score\")\n",
    "    plt.title(\"Comparison of F1-Scores Across Experiments\")\n",
    "    plt.xticks(rotation=45)\n",
    "    plt.tight_layout()\n",
    "\n",
    "    comparison_plot_path = \"f1_score_comparison.png\"\n",
    "    plt.savefig(comparison_plot_path)\n",
    "\n",
    "    mlflow.log_artifact(comparison_plot_path)"
   ]
  },
  {
   "cell_type": "markdown",
   "metadata": {},
   "source": [
    "### Save model using joblib"
   ]
  },
  {
   "cell_type": "code",
   "execution_count": 16,
   "metadata": {},
   "outputs": [],
   "source": [
    "model  = RandomForestClassifier(random_state=42, class_weight='balanced', n_jobs=-1, n_estimators=100)\n",
    "\n",
    "X_train, X_test, y_train, y_test = train_test_split(X, y_encoded, test_size=0.2, random_state=42)\n",
    "model.fit(X_train, y_train)\n",
    "y_pred = model.predict(X_test)"
   ]
  },
  {
   "cell_type": "code",
   "execution_count": 17,
   "metadata": {},
   "outputs": [
    {
     "data": {
      "text/plain": [
       "['random_forest_model.pkl']"
      ]
     },
     "execution_count": 17,
     "metadata": {},
     "output_type": "execute_result"
    }
   ],
   "source": [
    "rf_model = model\n",
    "joblib.dump(rf_model, 'random_forest_model.pkl')"
   ]
  }
 ],
 "metadata": {
  "kernelspec": {
   "display_name": ".venv",
   "language": "python",
   "name": "python3"
  },
  "language_info": {
   "codemirror_mode": {
    "name": "ipython",
    "version": 3
   },
   "file_extension": ".py",
   "mimetype": "text/x-python",
   "name": "python",
   "nbconvert_exporter": "python",
   "pygments_lexer": "ipython3",
   "version": "3.11.5"
  }
 },
 "nbformat": 4,
 "nbformat_minor": 2
}
